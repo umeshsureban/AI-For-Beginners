{
  "nbformat": 4,
  "nbformat_minor": 0,
  "metadata": {
    "colab": {
      "provenance": [],
      "include_colab_link": true
    },
    "kernelspec": {
      "name": "python3",
      "display_name": "Python 3"
    },
    "language_info": {
      "name": "python"
    }
  },
  "cells": [
    {
      "cell_type": "markdown",
      "metadata": {
        "id": "view-in-github",
        "colab_type": "text"
      },
      "source": [
        "<a href=\"https://colab.research.google.com/github/umeshsureban/AI-For-Beginners/blob/main/Travel_Agent.ipynb\" target=\"_parent\"><img src=\"https://colab.research.google.com/assets/colab-badge.svg\" alt=\"Open In Colab\"/></a>"
      ]
    },
    {
      "cell_type": "markdown",
      "source": [
        "##Step-by-Step Guide to Building AI Agent Teams with CrewAI\n"
      ],
      "metadata": {
        "id": "wd0NBUxQuO1B"
      }
    },
    {
      "cell_type": "markdown",
      "source": [
        "###Introduction\n",
        "CrewAI is a powerful framework that allows you to create, coordinate and deploy teams of AI agents that work together to accomplish complex tasks. This guide will walk you through the process of creating your own AI agent teams, even if you have minimal coding experience."
      ],
      "metadata": {
        "id": "9xmXLD-cuRGq"
      }
    },
    {
      "cell_type": "markdown",
      "source": [
        "###install Required Libraries"
      ],
      "metadata": {
        "id": "0hCUOI1-J2Zd"
      }
    },
    {
      "cell_type": "code",
      "source": [
        "!pip install -qU crewai langchain_openai 'crewai[tools]' google-search-results"
      ],
      "metadata": {
        "colab": {
          "base_uri": "https://localhost:8080/"
        },
        "id": "hHeuSCq_uVy2",
        "outputId": "50d3c4b1-0f2c-4258-e7b4-00098f389909"
      },
      "execution_count": null,
      "outputs": [
        {
          "output_type": "stream",
          "name": "stdout",
          "text": [
            "  Preparing metadata (setup.py) ... \u001b[?25l\u001b[?25hdone\n",
            "\u001b[2K     \u001b[90m━━━━━━━━━━━━━━━━━━━━━━━━━━━━━━━━━━━━━━━━\u001b[0m \u001b[32m42.5/42.5 kB\u001b[0m \u001b[31m3.8 MB/s\u001b[0m eta \u001b[36m0:00:00\u001b[0m\n",
            "\u001b[2K     \u001b[90m━━━━━━━━━━━━━━━━━━━━━━━━━━━━━━━━━━━━━━━━\u001b[0m \u001b[32m67.3/67.3 kB\u001b[0m \u001b[31m6.7 MB/s\u001b[0m eta \u001b[36m0:00:00\u001b[0m\n",
            "\u001b[?25h  Installing build dependencies ... \u001b[?25l\u001b[?25hdone\n",
            "  Getting requirements to build wheel ... \u001b[?25l\u001b[?25hdone\n",
            "  Preparing metadata (pyproject.toml) ... \u001b[?25l\u001b[?25hdone\n",
            "\u001b[2K     \u001b[90m━━━━━━━━━━━━━━━━━━━━━━━━━━━━━━━━━━━━━━━━\u001b[0m \u001b[32m48.2/48.2 kB\u001b[0m \u001b[31m5.0 MB/s\u001b[0m eta \u001b[36m0:00:00\u001b[0m\n",
            "\u001b[2K   \u001b[90m━━━━━━━━━━━━━━━━━━━━━━━━━━━━━━━━━━━━━━━━\u001b[0m \u001b[32m240.2/240.2 kB\u001b[0m \u001b[31m10.6 MB/s\u001b[0m eta \u001b[36m0:00:00\u001b[0m\n",
            "\u001b[2K   \u001b[90m━━━━━━━━━━━━━━━━━━━━━━━━━━━━━━━━━━━━━━━━\u001b[0m \u001b[32m6.7/6.7 MB\u001b[0m \u001b[31m15.8 MB/s\u001b[0m eta \u001b[36m0:00:00\u001b[0m\n",
            "\u001b[2K   \u001b[90m━━━━━━━━━━━━━━━━━━━━━━━━━━━━━━━━━━━━━━━━\u001b[0m \u001b[32m134.0/134.0 kB\u001b[0m \u001b[31m10.3 MB/s\u001b[0m eta \u001b[36m0:00:00\u001b[0m\n",
            "\u001b[2K   \u001b[90m━━━━━━━━━━━━━━━━━━━━━━━━━━━━━━━━━━━━━━━━\u001b[0m \u001b[32m2.4/2.4 MB\u001b[0m \u001b[31m19.6 MB/s\u001b[0m eta \u001b[36m0:00:00\u001b[0m\n",
            "\u001b[2K   \u001b[90m━━━━━━━━━━━━━━━━━━━━━━━━━━━━━━━━━━━━━━━━\u001b[0m \u001b[32m545.9/545.9 kB\u001b[0m \u001b[31m16.4 MB/s\u001b[0m eta \u001b[36m0:00:00\u001b[0m\n",
            "\u001b[2K   \u001b[90m━━━━━━━━━━━━━━━━━━━━━━━━━━━━━━━━━━━━━━━━\u001b[0m \u001b[32m71.4/71.4 kB\u001b[0m \u001b[31m7.4 MB/s\u001b[0m eta \u001b[36m0:00:00\u001b[0m\n",
            "\u001b[2K   \u001b[90m━━━━━━━━━━━━━━━━━━━━━━━━━━━━━━━━━━━━━━━━\u001b[0m \u001b[32m65.0/65.0 kB\u001b[0m \u001b[31m6.4 MB/s\u001b[0m eta \u001b[36m0:00:00\u001b[0m\n",
            "\u001b[2K   \u001b[90m━━━━━━━━━━━━━━━━━━━━━━━━━━━━━━━━━━━━━━━━\u001b[0m \u001b[32m55.9/55.9 kB\u001b[0m \u001b[31m5.6 MB/s\u001b[0m eta \u001b[36m0:00:00\u001b[0m\n",
            "\u001b[2K   \u001b[90m━━━━━━━━━━━━━━━━━━━━━━━━━━━━━━━━━━━━━━━━\u001b[0m \u001b[32m118.7/118.7 kB\u001b[0m \u001b[31m12.1 MB/s\u001b[0m eta \u001b[36m0:00:00\u001b[0m\n",
            "\u001b[2K   \u001b[90m━━━━━━━━━━━━━━━━━━━━━━━━━━━━━━━━━━━━━━━━\u001b[0m \u001b[32m177.4/177.4 kB\u001b[0m \u001b[31m10.4 MB/s\u001b[0m eta \u001b[36m0:00:00\u001b[0m\n",
            "\u001b[2K   \u001b[90m━━━━━━━━━━━━━━━━━━━━━━━━━━━━━━━━━━━━━━━━\u001b[0m \u001b[32m59.5/59.5 kB\u001b[0m \u001b[31m5.6 MB/s\u001b[0m eta \u001b[36m0:00:00\u001b[0m\n",
            "\u001b[2K   \u001b[90m━━━━━━━━━━━━━━━━━━━━━━━━━━━━━━━━━━━━━━━━\u001b[0m \u001b[32m5.6/5.6 MB\u001b[0m \u001b[31m21.6 MB/s\u001b[0m eta \u001b[36m0:00:00\u001b[0m\n",
            "\u001b[2K   \u001b[90m━━━━━━━━━━━━━━━━━━━━━━━━━━━━━━━━━━━━━━━━\u001b[0m \u001b[32m756.0/756.0 kB\u001b[0m \u001b[31m20.2 MB/s\u001b[0m eta \u001b[36m0:00:00\u001b[0m\n",
            "\u001b[2K   \u001b[90m━━━━━━━━━━━━━━━━━━━━━━━━━━━━━━━━━━━━━━━━\u001b[0m \u001b[32m236.0/236.0 kB\u001b[0m \u001b[31m13.9 MB/s\u001b[0m eta \u001b[36m0:00:00\u001b[0m\n",
            "\u001b[2K   \u001b[90m━━━━━━━━━━━━━━━━━━━━━━━━━━━━━━━━━━━━━━━━\u001b[0m \u001b[32m16.4/16.4 MB\u001b[0m \u001b[31m22.8 MB/s\u001b[0m eta \u001b[36m0:00:00\u001b[0m\n",
            "\u001b[2K   \u001b[90m━━━━━━━━━━━━━━━━━━━━━━━━━━━━━━━━━━━━━━━━\u001b[0m \u001b[32m278.6/278.6 kB\u001b[0m \u001b[31m14.2 MB/s\u001b[0m eta \u001b[36m0:00:00\u001b[0m\n",
            "\u001b[2K   \u001b[90m━━━━━━━━━━━━━━━━━━━━━━━━━━━━━━━━━━━━━━━━\u001b[0m \u001b[32m147.8/147.8 kB\u001b[0m \u001b[31m15.1 MB/s\u001b[0m eta \u001b[36m0:00:00\u001b[0m\n",
            "\u001b[2K   \u001b[90m━━━━━━━━━━━━━━━━━━━━━━━━━━━━━━━━━━━━━━━━\u001b[0m \u001b[32m211.4/211.4 kB\u001b[0m \u001b[31m12.3 MB/s\u001b[0m eta \u001b[36m0:00:00\u001b[0m\n",
            "\u001b[2K   \u001b[90m━━━━━━━━━━━━━━━━━━━━━━━━━━━━━━━━━━━━━━━━\u001b[0m \u001b[32m50.9/50.9 kB\u001b[0m \u001b[31m5.1 MB/s\u001b[0m eta \u001b[36m0:00:00\u001b[0m\n",
            "\u001b[2K   \u001b[90m━━━━━━━━━━━━━━━━━━━━━━━━━━━━━━━━━━━━━━━━\u001b[0m \u001b[32m628.3/628.3 kB\u001b[0m \u001b[31m17.5 MB/s\u001b[0m eta \u001b[36m0:00:00\u001b[0m\n",
            "\u001b[2K   \u001b[90m━━━━━━━━━━━━━━━━━━━━━━━━━━━━━━━━━━━━━━━━\u001b[0m \u001b[32m1.1/1.1 MB\u001b[0m \u001b[31m11.3 MB/s\u001b[0m eta \u001b[36m0:00:00\u001b[0m\n",
            "\u001b[2K   \u001b[90m━━━━━━━━━━━━━━━━━━━━━━━━━━━━━━━━━━━━━━━━\u001b[0m \u001b[32m94.8/94.8 kB\u001b[0m \u001b[31m9.8 MB/s\u001b[0m eta \u001b[36m0:00:00\u001b[0m\n",
            "\u001b[2K   \u001b[90m━━━━━━━━━━━━━━━━━━━━━━━━━━━━━━━━━━━━━━━━\u001b[0m \u001b[32m76.4/76.4 kB\u001b[0m \u001b[31m8.0 MB/s\u001b[0m eta \u001b[36m0:00:00\u001b[0m\n",
            "\u001b[2K   \u001b[90m━━━━━━━━━━━━━━━━━━━━━━━━━━━━━━━━━━━━━━━━\u001b[0m \u001b[32m2.0/2.0 MB\u001b[0m \u001b[31m21.3 MB/s\u001b[0m eta \u001b[36m0:00:00\u001b[0m\n",
            "\u001b[2K   \u001b[90m━━━━━━━━━━━━━━━━━━━━━━━━━━━━━━━━━━━━━━━━\u001b[0m \u001b[32m32.3/32.3 MB\u001b[0m \u001b[31m16.4 MB/s\u001b[0m eta \u001b[36m0:00:00\u001b[0m\n",
            "\u001b[2K   \u001b[90m━━━━━━━━━━━━━━━━━━━━━━━━━━━━━━━━━━━━━━━━\u001b[0m \u001b[32m38.4/38.4 MB\u001b[0m \u001b[31m11.1 MB/s\u001b[0m eta \u001b[36m0:00:00\u001b[0m\n",
            "\u001b[2K   \u001b[90m━━━━━━━━━━━━━━━━━━━━━━━━━━━━━━━━━━━━━━━━\u001b[0m \u001b[32m311.8/311.8 kB\u001b[0m \u001b[31m26.8 MB/s\u001b[0m eta \u001b[36m0:00:00\u001b[0m\n",
            "\u001b[2K   \u001b[90m━━━━━━━━━━━━━━━━━━━━━━━━━━━━━━━━━━━━━━━━\u001b[0m \u001b[32m101.6/101.6 kB\u001b[0m \u001b[31m10.4 MB/s\u001b[0m eta \u001b[36m0:00:00\u001b[0m\n",
            "\u001b[2K   \u001b[90m━━━━━━━━━━━━━━━━━━━━━━━━━━━━━━━━━━━━━━━━\u001b[0m \u001b[32m13.3/13.3 MB\u001b[0m \u001b[31m44.6 MB/s\u001b[0m eta \u001b[36m0:00:00\u001b[0m\n",
            "\u001b[2K   \u001b[90m━━━━━━━━━━━━━━━━━━━━━━━━━━━━━━━━━━━━━━━━\u001b[0m \u001b[32m74.7/74.7 kB\u001b[0m \u001b[31m8.2 MB/s\u001b[0m eta \u001b[36m0:00:00\u001b[0m\n",
            "\u001b[2K   \u001b[90m━━━━━━━━━━━━━━━━━━━━━━━━━━━━━━━━━━━━━━━━\u001b[0m \u001b[32m2.9/2.9 MB\u001b[0m \u001b[31m42.3 MB/s\u001b[0m eta \u001b[36m0:00:00\u001b[0m\n",
            "\u001b[2K   \u001b[90m━━━━━━━━━━━━━━━━━━━━━━━━━━━━━━━━━━━━━━━━\u001b[0m \u001b[32m5.7/5.7 MB\u001b[0m \u001b[31m30.5 MB/s\u001b[0m eta \u001b[36m0:00:00\u001b[0m\n",
            "\u001b[2K   \u001b[90m━━━━━━━━━━━━━━━━━━━━━━━━━━━━━━━━━━━━━━━━\u001b[0m \u001b[32m57.6/57.6 kB\u001b[0m \u001b[31m5.7 MB/s\u001b[0m eta \u001b[36m0:00:00\u001b[0m\n",
            "\u001b[2K   \u001b[90m━━━━━━━━━━━━━━━━━━━━━━━━━━━━━━━━━━━━━━━━\u001b[0m \u001b[32m3.0/3.0 MB\u001b[0m \u001b[31m44.4 MB/s\u001b[0m eta \u001b[36m0:00:00\u001b[0m\n",
            "\u001b[2K   \u001b[90m━━━━━━━━━━━━━━━━━━━━━━━━━━━━━━━━━━━━━━━━\u001b[0m \u001b[32m62.3/62.3 kB\u001b[0m \u001b[31m6.7 MB/s\u001b[0m eta \u001b[36m0:00:00\u001b[0m\n",
            "\u001b[2K   \u001b[90m━━━━━━━━━━━━━━━━━━━━━━━━━━━━━━━━━━━━━━━━\u001b[0m \u001b[32m233.6/233.6 kB\u001b[0m \u001b[31m23.3 MB/s\u001b[0m eta \u001b[36m0:00:00\u001b[0m\n",
            "\u001b[2K   \u001b[90m━━━━━━━━━━━━━━━━━━━━━━━━━━━━━━━━━━━━━━━━\u001b[0m \u001b[32m252.9/252.9 kB\u001b[0m \u001b[31m22.0 MB/s\u001b[0m eta \u001b[36m0:00:00\u001b[0m\n",
            "\u001b[2K   \u001b[90m━━━━━━━━━━━━━━━━━━━━━━━━━━━━━━━━━━━━━━━━\u001b[0m \u001b[32m131.6/131.6 kB\u001b[0m \u001b[31m13.9 MB/s\u001b[0m eta \u001b[36m0:00:00\u001b[0m\n",
            "\u001b[2K   \u001b[90m━━━━━━━━━━━━━━━━━━━━━━━━━━━━━━━━━━━━━━━━\u001b[0m \u001b[32m459.8/459.8 kB\u001b[0m \u001b[31m25.5 MB/s\u001b[0m eta \u001b[36m0:00:00\u001b[0m\n",
            "\u001b[2K   \u001b[90m━━━━━━━━━━━━━━━━━━━━━━━━━━━━━━━━━━━━━━━━\u001b[0m \u001b[32m1.6/1.6 MB\u001b[0m \u001b[31m34.9 MB/s\u001b[0m eta \u001b[36m0:00:00\u001b[0m\n",
            "\u001b[2K   \u001b[90m━━━━━━━━━━━━━━━━━━━━━━━━━━━━━━━━━━━━━━━━\u001b[0m \u001b[32m45.1/45.1 kB\u001b[0m \u001b[31m5.1 MB/s\u001b[0m eta \u001b[36m0:00:00\u001b[0m\n",
            "\u001b[2K   \u001b[90m━━━━━━━━━━━━━━━━━━━━━━━━━━━━━━━━━━━━━━━━\u001b[0m \u001b[32m2.5/2.5 MB\u001b[0m \u001b[31m40.1 MB/s\u001b[0m eta \u001b[36m0:00:00\u001b[0m\n",
            "\u001b[2K   \u001b[90m━━━━━━━━━━━━━━━━━━━━━━━━━━━━━━━━━━━━━━━━\u001b[0m \u001b[32m94.6/94.6 kB\u001b[0m \u001b[31m10.0 MB/s\u001b[0m eta \u001b[36m0:00:00\u001b[0m\n",
            "\u001b[2K   \u001b[90m━━━━━━━━━━━━━━━━━━━━━━━━━━━━━━━━━━━━━━━━\u001b[0m \u001b[32m319.7/319.7 kB\u001b[0m \u001b[31m26.6 MB/s\u001b[0m eta \u001b[36m0:00:00\u001b[0m\n",
            "\u001b[2K   \u001b[90m━━━━━━━━━━━━━━━━━━━━━━━━━━━━━━━━━━━━━━━━\u001b[0m \u001b[32m300.7/300.7 kB\u001b[0m \u001b[31m25.6 MB/s\u001b[0m eta \u001b[36m0:00:00\u001b[0m\n",
            "\u001b[2K   \u001b[90m━━━━━━━━━━━━━━━━━━━━━━━━━━━━━━━━━━━━━━━━\u001b[0m \u001b[32m71.1/71.1 kB\u001b[0m \u001b[31m5.3 MB/s\u001b[0m eta \u001b[36m0:00:00\u001b[0m\n",
            "\u001b[2K   \u001b[90m━━━━━━━━━━━━━━━━━━━━━━━━━━━━━━━━━━━━━━━━\u001b[0m \u001b[32m71.5/71.5 kB\u001b[0m \u001b[31m7.4 MB/s\u001b[0m eta \u001b[36m0:00:00\u001b[0m\n",
            "\u001b[2K   \u001b[90m━━━━━━━━━━━━━━━━━━━━━━━━━━━━━━━━━━━━━━━━\u001b[0m \u001b[32m4.0/4.0 MB\u001b[0m \u001b[31m41.3 MB/s\u001b[0m eta \u001b[36m0:00:00\u001b[0m\n",
            "\u001b[2K   \u001b[90m━━━━━━━━━━━━━━━━━━━━━━━━━━━━━━━━━━━━━━━━\u001b[0m \u001b[32m452.6/452.6 kB\u001b[0m \u001b[31m23.4 MB/s\u001b[0m eta \u001b[36m0:00:00\u001b[0m\n",
            "\u001b[2K   \u001b[90m━━━━━━━━━━━━━━━━━━━━━━━━━━━━━━━━━━━━━━━━\u001b[0m \u001b[32m46.0/46.0 kB\u001b[0m \u001b[31m3.8 MB/s\u001b[0m eta \u001b[36m0:00:00\u001b[0m\n",
            "\u001b[2K   \u001b[90m━━━━━━━━━━━━━━━━━━━━━━━━━━━━━━━━━━━━━━━━\u001b[0m \u001b[32m3.3/3.3 MB\u001b[0m \u001b[31m37.2 MB/s\u001b[0m eta \u001b[36m0:00:00\u001b[0m\n",
            "\u001b[2K   \u001b[90m━━━━━━━━━━━━━━━━━━━━━━━━━━━━━━━━━━━━━━━━\u001b[0m \u001b[32m86.8/86.8 kB\u001b[0m \u001b[31m8.5 MB/s\u001b[0m eta \u001b[36m0:00:00\u001b[0m\n",
            "\u001b[2K   \u001b[90m━━━━━━━━━━━━━━━━━━━━━━━━━━━━━━━━━━━━━━━━\u001b[0m \u001b[32m209.2/209.2 kB\u001b[0m \u001b[31m19.7 MB/s\u001b[0m eta \u001b[36m0:00:00\u001b[0m\n",
            "\u001b[2K   \u001b[90m━━━━━━━━━━━━━━━━━━━━━━━━━━━━━━━━━━━━━━━━\u001b[0m \u001b[32m508.0/508.0 kB\u001b[0m \u001b[31m27.1 MB/s\u001b[0m eta \u001b[36m0:00:00\u001b[0m\n",
            "\u001b[2K   \u001b[90m━━━━━━━━━━━━━━━━━━━━━━━━━━━━━━━━━━━━━━━━\u001b[0m \u001b[32m306.6/306.6 kB\u001b[0m \u001b[31m19.7 MB/s\u001b[0m eta \u001b[36m0:00:00\u001b[0m\n",
            "\u001b[2K   \u001b[90m━━━━━━━━━━━━━━━━━━━━━━━━━━━━━━━━━━━━━━━━\u001b[0m \u001b[32m78.5/78.5 kB\u001b[0m \u001b[31m8.2 MB/s\u001b[0m eta \u001b[36m0:00:00\u001b[0m\n",
            "\u001b[2K   \u001b[90m━━━━━━━━━━━━━━━━━━━━━━━━━━━━━━━━━━━━━━━━\u001b[0m \u001b[32m2.5/2.5 MB\u001b[0m \u001b[31m38.6 MB/s\u001b[0m eta \u001b[36m0:00:00\u001b[0m\n",
            "\u001b[2K   \u001b[90m━━━━━━━━━━━━━━━━━━━━━━━━━━━━━━━━━━━━━━━━\u001b[0m \u001b[32m50.9/50.9 kB\u001b[0m \u001b[31m4.5 MB/s\u001b[0m eta \u001b[36m0:00:00\u001b[0m\n",
            "\u001b[?25h  Building wheel for google-search-results (setup.py) ... \u001b[?25l\u001b[?25hdone\n",
            "  Building wheel for pypika (pyproject.toml) ... \u001b[?25l\u001b[?25hdone\n",
            "\u001b[31mERROR: pip's dependency resolver does not currently take into account all the packages that are installed. This behaviour is the source of the following dependency conflicts.\n",
            "transformers 4.48.3 requires tokenizers<0.22,>=0.21, but you have tokenizers 0.20.3 which is incompatible.\u001b[0m\u001b[31m\n",
            "\u001b[0m"
          ]
        }
      ]
    },
    {
      "cell_type": "markdown",
      "source": [
        "###Getting Your API Keys\n",
        "**Serper API Key**\n",
        "\n",
        "* Visit https://serper.dev/api-key\n",
        "* Sign up for an account or log in\n",
        "* Navigate to the API dashboard\n",
        "* Generate your API key\n",
        "* Copy the key and use in your Colab Notebook\n",
        "\n",
        "**Google Gemini API Key**\n",
        "\n",
        "* Visit https://aistudio.google.com/\n",
        " Sign in with your Google account\n",
        "* Navigate to \"API Keys\" in the settings menu\n",
        "* Click \"Create API Key\"\n",
        "* Copy your new API key And use in Colab Notebook\n"
      ],
      "metadata": {
        "id": "wdVKINDtL1Ls"
      }
    },
    {
      "cell_type": "markdown",
      "source": [
        "**How to Configure API Keys On Google Colab**\n",
        "* Click on the key icon in the left sidebar\n",
        "* Select \"Add new Secret\"\n",
        "* Add your API keys with appropriate names: GEMINI_API_KEY, SERPER_API_KEY\n"
      ],
      "metadata": {
        "id": "vPzTKlhFCm_f"
      }
    },
    {
      "cell_type": "markdown",
      "source": [
        "###Setup API Keys"
      ],
      "metadata": {
        "id": "PvTeF1a20Yg9"
      }
    },
    {
      "cell_type": "code",
      "source": [
        "import os\n",
        "from google.colab import userdata\n",
        "# os.environ[\"OPENAI_API_KEY\"] = userdata.get('OPENAI_API_KEY')\n",
        "os.environ[\"GEMINI_API_KEY\"] = userdata.get('GEMINI_API_KEY')\n",
        "os.environ[\"SERPER_API_KEY\"] = userdata.get('SERPER_API_KEY')"
      ],
      "metadata": {
        "id": "46WooK1suaPQ"
      },
      "execution_count": null,
      "outputs": []
    },
    {
      "cell_type": "markdown",
      "source": [
        "###Initialize Models"
      ],
      "metadata": {
        "id": "IfLfg_dtKBFB"
      }
    },
    {
      "cell_type": "code",
      "source": [
        "from langchain_openai import ChatOpenAI\n",
        "from crewai import LLM\n",
        "\n",
        "Gemini = LLM(\n",
        "    model=\"gemini/gemini-2.0-flash\",)\n",
        "\n",
        "\n",
        "#gpt4o = ChatOpenAI(model = \"gpt-4o\")"
      ],
      "metadata": {
        "id": "whOXjfQRueMV"
      },
      "execution_count": null,
      "outputs": []
    },
    {
      "cell_type": "markdown",
      "source": [
        "###1. AI Travel Agent 🧳\n"
      ],
      "metadata": {
        "id": "OGO9Gr0mAJpu"
      }
    },
    {
      "cell_type": "code",
      "source": [
        "from crewai import Agent, Task, Crew, Process\n",
        "from crewai_tools import SerperDevTool\n",
        "\n",
        "# Initialize tools\n",
        "search_tool = SerperDevTool()\n",
        "\n",
        "def create_travel_agent(destination, preferences):\n",
        "    # Define the Travel Agent\n",
        "    travel_agent = Agent(\n",
        "        role=\"Travel Planner\",\n",
        "        goal=f\"Plan a trip to {destination} based on user preferences\",\n",
        "        backstory=\"An expert travel assistant trained to create personalized travel itineraries\",\n",
        "        verbose=True,\n",
        "        tools=[search_tool],\n",
        "        llm=Gemini\n",
        "    )\n",
        "\n",
        "    # Define the Local Expert Agent\n",
        "    local_expert = Agent(\n",
        "        role=\"Local Expert\",\n",
        "        goal=f\"Provide insider knowledge and cultural insights about {destination}\",\n",
        "        backstory=f\"A longtime resident and cultural expert of {destination} with deep knowledge of local customs, hidden gems, and authentic experiences\",\n",
        "        verbose=True,\n",
        "        tools=[search_tool],\n",
        "        llm=Gemini\n",
        "    )\n",
        "\n",
        "    # Define the Travel Planning Task\n",
        "    travel_task = Task(\n",
        "        description=f\"Find the best places to visit, stay, and eat in {destination} based on preferences: {preferences}\",\n",
        "        expected_output=f\"A detailed travel itinerary for {destination} including places to visit, accommodations, and restaurants.\",\n",
        "        agent=travel_agent\n",
        "    )\n",
        "\n",
        "    # Define the Local Insights Task\n",
        "    local_task = Task(\n",
        "        description=f\"Provide insider tips, cultural insights, and hidden gems for {destination}. Consider local customs, best times to visit specific locations, and authentic local experiences.\",\n",
        "        expected_output=f\"A comprehensive guide of insider knowledge about {destination}, including cultural tips, local customs, and secret spots not found in typical tourist guides.\",\n",
        "        agent=local_expert\n",
        "    )\n",
        "\n",
        "    # Create and Run the Crew\n",
        "    crew = Crew(\n",
        "        agents=[travel_agent, local_expert],\n",
        "        tasks=[travel_task, local_task],\n",
        "        verbose=True,\n",
        "        process=Process.sequential\n",
        "    )\n",
        "\n",
        "    result = crew.kickoff(inputs={\"destination\": destination, \"preferences\": preferences})\n",
        "    return result"
      ],
      "metadata": {
        "colab": {
          "base_uri": "https://localhost:8080/"
        },
        "id": "Zm9_pd42ujm9",
        "outputId": "28e5dc9b-9b4c-4e01-fbca-755abf341857"
      },
      "execution_count": null,
      "outputs": [
        {
          "output_type": "stream",
          "name": "stderr",
          "text": [
            "/usr/local/lib/python3.11/dist-packages/pydantic/_internal/_config.py:295: PydanticDeprecatedSince20: Support for class-based `config` is deprecated, use ConfigDict instead. Deprecated in Pydantic V2.0 to be removed in V3.0. See Pydantic V2 Migration Guide at https://errors.pydantic.dev/2.10/migration/\n",
            "  warnings.warn(DEPRECATION_MESSAGE, DeprecationWarning)\n",
            "/usr/local/lib/python3.11/dist-packages/pydantic/_internal/_generate_schema.py:502: UserWarning: <built-in function callable> is not a Python type (it may be an instance of an object), Pydantic will allow any object with no validation since we cannot even enforce that the input is an instance of the given type. To get rid of this error wrap the type with `pydantic.SkipValidation`.\n",
            "  warn(\n",
            "/usr/local/lib/python3.11/dist-packages/crewai_tools/tools/scrapegraph_scrape_tool/scrapegraph_scrape_tool.py:34: PydanticDeprecatedSince20: Pydantic V1 style `@validator` validators are deprecated. You should migrate to Pydantic V2 style `@field_validator` validators, see the migration guide for more details. Deprecated in Pydantic V2.0 to be removed in V3.0. See Pydantic V2 Migration Guide at https://errors.pydantic.dev/2.10/migration/\n",
            "  @validator(\"website_url\")\n",
            "/usr/local/lib/python3.11/dist-packages/crewai_tools/tools/selenium_scraping_tool/selenium_scraping_tool.py:26: PydanticDeprecatedSince20: Pydantic V1 style `@validator` validators are deprecated. You should migrate to Pydantic V2 style `@field_validator` validators, see the migration guide for more details. Deprecated in Pydantic V2.0 to be removed in V3.0. See Pydantic V2 Migration Guide at https://errors.pydantic.dev/2.10/migration/\n",
            "  @validator(\"website_url\")\n",
            "/usr/local/lib/python3.11/dist-packages/crewai_tools/tools/vision_tool/vision_tool.py:15: PydanticDeprecatedSince20: Pydantic V1 style `@validator` validators are deprecated. You should migrate to Pydantic V2 style `@field_validator` validators, see the migration guide for more details. Deprecated in Pydantic V2.0 to be removed in V3.0. See Pydantic V2 Migration Guide at https://errors.pydantic.dev/2.10/migration/\n",
            "  @validator(\"image_path_url\")\n"
          ]
        }
      ]
    },
    {
      "cell_type": "markdown",
      "source": [
        "### Execute the agent\n"
      ],
      "metadata": {
        "id": "dn-xzy89utDY"
      }
    },
    {
      "cell_type": "code",
      "source": [
        "destination = input(\"Enter your travel destination (e.g., Paris, Bali): \")\n",
        "preferences = input(\"Enter your preferences (e.g., adventure, luxury, budget-friendly): \")\n",
        "travel_result = create_travel_agent(destination, preferences)\n",
        "print(\"Travel Itinerary:\")\n",
        "print(travel_result)"
      ],
      "metadata": {
        "colab": {
          "base_uri": "https://localhost:8080/"
        },
        "id": "CsM7G9QXunWB",
        "outputId": "ede62298-950a-4df0-dea7-6fa621d65ed2"
      },
      "execution_count": null,
      "outputs": [
        {
          "output_type": "stream",
          "name": "stdout",
          "text": [
            "Enter your travel destination (e.g., Paris, Bali): paris\n",
            "Enter your preferences (e.g., adventure, luxury, budget-friendly): adventure\n",
            "\u001b[1m\u001b[95m# Agent:\u001b[00m \u001b[1m\u001b[92mTravel Planner\u001b[00m\n",
            "\u001b[95m## Task:\u001b[00m \u001b[92mFind the best places to visit, stay, and eat in paris based on preferences: adventure\u001b[00m\n",
            "\n",
            "\n",
            "\u001b[1m\u001b[95m# Agent:\u001b[00m \u001b[1m\u001b[92mTravel Planner\u001b[00m\n",
            "\u001b[95m## Using tool:\u001b[00m \u001b[92mSearch the internet with Serper\u001b[00m\n",
            "\u001b[95m## Tool Input:\u001b[00m \u001b[92m\n",
            "\"{\\\"search_query\\\": \\\"adventure activities in Paris\\\"}\"\u001b[00m\n",
            "\u001b[95m## Tool Output:\u001b[00m \u001b[92m\n",
            "{'searchParameters': {'q': 'adventure activities in Paris', 'type': 'search', 'num': 10, 'engine': 'google'}, 'organic': [{'title': 'THE 10 BEST Adventurous Things to Do in Paris (2025) - Tripadvisor', 'link': 'https://www.tripadvisor.com/Attractions-g187147-Activities-zft12163-Paris_Ile_de_France.html', 'snippet': 'Recommended Adventurous Experiences (108) · 3. THATLou, Treasure Hunt at the Louvre · 4. Retro Tour Paris · 5. Comptoir des catacombes · 6. Paris by Scooter · 7 ...', 'position': 1}, {'title': '10 thrilling things to do in Paris!', 'link': 'https://parisjetaime.com/eng/article/10-thrilling-things-to-do-in-paris-a660', 'snippet': 'Meet killer clowns · Thrilling rollercoaster rides · See Paris by helicopter · Water ski on the Seine · Fly over Paris in an air balloon · Save the Earth in virtual ...', 'position': 2}, {'title': 'Top 12 Extreme Sports in Paris | Manawa', 'link': 'https://www.manawa.com/en/articles/the-12-best-extreme-sports-to-try-in-paris', 'snippet': '1. Bouldering and Indoor Climbing · 2. Indoor Skydiving · 3. Skateboarding · 4. Indoor Surfing · 5. BMX · 6. Wakeboarding · 7. Escape Games · 8. Parachute Jump.', 'position': 3}, {'title': 'The BEST Paris Nature & adventure 2025 - FREE Cancellation', 'link': 'https://www.getyourguide.com/paris-l16/nature-adventure-tc35/', 'snippet': 'Our most recommended Paris Nature & adventure · Paris: City Highlights Guided Quad Tour · Paris: Hop-on Hop-off Bus Tour & Seine Cruise Bundle Tour · Aquarium de ...', 'position': 4}, {'title': 'Outdoor Activities in Paris: Book Your Outdoor Experiences Online', 'link': 'https://www.cometoparis.com/outdoor-activities-paris-c9000705', 'snippet': 'Paris Canal Cruise on the Canal Saint-Martin in Paris · Lunch-Cruise on the Seine aboard the Bateaux Parisiens · Night tour of Paris in a Tootbus panoramic bus.', 'position': 5}, {'title': 'Solo adventure in Paris - 6 days packed with activities! - Reddit', 'link': 'https://www.reddit.com/r/ParisTravelGuide/comments/1d2jyhd/solo_adventure_in_paris_6_days_packed_with/', 'snippet': 'I really enjoyed climbing up the Caesar Keep - unlike a lot of monuments in Paris and around the world, they really let you explore every part ...', 'position': 6}, {'title': 'Paris: All our outdoor activities - Manawa', 'link': 'https://www.manawa.com/en-GB/search-by-spot/europe/france/paris/147-3406-1520', 'snippet': 'Paris: our activities · Unusual Activities (11) · Canopy Tours (9) · Escape Game (9) · Virtual Reality (8) · Skydiving (6) · Skateboarding (6) · Microlight flying (5).', 'position': 7}, {'title': 'THE TOP 10 Paris Adventure Tours | Book Tickets & Tours - Viator', 'link': 'https://www.viator.com/Paris-tours/Adventure-Tours/d479-tag22046', 'snippet': 'Paris: Small Group Highlights E-Bike Guided Tour · Segway tour Paris · Bruges Small-group Full-day trip by Minivan from Paris · Best of the Eiffel Tower by ...', 'position': 8}, {'title': 'Paris Day Trips to Farms or Outdoor Activities : r/ParisTravelGuide', 'link': 'https://www.reddit.com/r/ParisTravelGuide/comments/1btkwkl/paris_day_trips_to_farms_or_outdoor_activities/', 'snippet': 'We enjoy gardening/farming, as well as outdoor activities such as hiking and climbing. Any recommendations?', 'position': 9}, {'title': 'Sightseeing & Activities in Paris | Railbookers®', 'link': 'https://www.railbookers.com/sightseeing-and-activities/explore-paris', 'snippet': \"Visit the Eiffel Tower, Louvre Museum, or Notre-Dame Cathedral. Enjoy French cuisine and wine, and experience the city's vibrant nightlife.\", 'position': 10, 'sitelinks': [{'title': 'Montparnasse Tower...', 'link': 'https://www.railbookers.com/sightseeing-and-activities/explore-paris#:~:text=Montparnasse%20Tower%20Observation%20Deck'}, {'title': \"Monet's Giverny House And...\", 'link': 'https://www.railbookers.com/sightseeing-and-activities/explore-paris#:~:text=Monet%27s%20Giverny%20House%20and%20Gardens'}, {'title': 'Loire Valley Castles Day...', 'link': 'https://www.railbookers.com/sightseeing-and-activities/explore-paris#:~:text=Loire%20Valley%20Castles%20Day%20Trip%20with%20Wine%20Tasting'}]}], 'peopleAlsoAsk': [{'question': 'What activities are done in Paris?', 'snippet': 'TOP ATTRACTIONS IN PARIS\\n1Disneyland Paris.\\n2Louvre Museum.\\n3Moulin Rouge.\\n4Eiffel Tower.\\n5Seine River.\\n6Notre Dame Cathedral.\\n7Palace of Versailles.\\n8Palais Garnier.', 'title': 'The BEST Things to Do in Paris - Top Activities in 2025 | GetYourGuide', 'link': 'https://www.getyourguide.com/paris-l16/ttd/'}, {'question': 'What is the number 1 tourist attraction in Paris?', 'snippet': \"Louvre Museum (Musée du Louvre) - The Most Visited Museum in the World. The enormous Louvre Museum receives over 10 million visitors a year, making it the world's most visited museum and a top Paris attraction.\", 'title': 'Top 10 Paris Attractions: Popular Places to Visit | Paris Discovery Guide', 'link': 'https://www.parisdiscoveryguide.com/paris-attractions-top-10.html'}, {'question': 'Is it okay to wear jeans in Paris?', 'snippet': \"Yes, you can wear jeans. Honestly every third person walking down the street in Paris is in a pair of jeans. The twist? They're not slouchy (unless you are a 17 year old gansta rapper wannabe), holey (unless you are a 22 year old rail thin model), or grubby. A well fitting, crisp pair of jeans is what you want.\", 'title': 'What (Not) to Wear in Paris | Posted in Paris', 'link': 'https://postedinparis.wordpress.com/2010/09/20/what-not-to-wear-in-paris/'}, {'question': 'What is the coolest area in Paris?', 'snippet': 'THE NICEST NEIGHBOURHOODS IN PARIS\\nSouth Pigalle & Rue des Martyrs. ...\\nNotre Dame & De Eilanden. ...\\nQuartier Latin & Saint-Germain-des-Prés. ...\\nMontmartre. ...\\nMontparnasse. ...\\nLe Marais & Les Halles. ...\\nEiffeltoren, Invalides & Grenelles. ...\\nGrands Boulevards & Vivienne.', 'title': 'The nicest neighbourhoods in Paris - Time to Momo', 'link': 'https://www.timetomomo.com/en/destination/paris/neighbourhoods/'}], 'relatedSearches': [{'query': 'Paris'}, {'query': 'Indoor adventure activities in paris'}, {'query': 'Outdoor adventure activities in paris'}, {'query': 'Adventure activities in paris for adults'}, {'query': 'Fun activities in Paris for adults'}, {'query': 'Fun activities in Paris for kids'}, {'query': 'Fun activities Paris'}, {'query': 'Paris Adventure Book'}, {'query': 'Fun things to do in Paris for young adults'}], 'credits': 1}\u001b[00m\n",
            "\n",
            "\n",
            "\u001b[1m\u001b[95m# Agent:\u001b[00m \u001b[1m\u001b[92mTravel Planner\u001b[00m\n",
            "\u001b[95m## Using tool:\u001b[00m \u001b[92mSearch the internet with Serper\u001b[00m\n",
            "\u001b[95m## Tool Input:\u001b[00m \u001b[92m\n",
            "\"{\\\"search_query\\\": \\\"unique adventurous accommodations in Paris\\\"}\"\u001b[00m\n",
            "\u001b[95m## Tool Output:\u001b[00m \u001b[92m\n",
            "{'searchParameters': {'q': 'unique adventurous accommodations in Paris', 'type': 'search', 'num': 10, 'engine': 'google'}, 'organic': [{'title': 'THE 10 BEST Cool and Unique Hotels in Paris - Tripadvisor', 'link': 'https://www.tripadvisor.com/HotelsList-Paris-Unique-Hotels-zfp315054.html', 'snippet': 'Cool and Unique Paris Hotels · 1. Hotel 34B - Astotel · 2. Hotel Joke - Astotel · 3. Hotel Le 123 Sebastopol - Astotel · 4. La Maison Favart.', 'position': 1}, {'title': '3 Unique Hotels In Paris - Where To Stay? - Duchess of Neverland', 'link': 'https://www.duchessofneverland.com/home/unique-hotels-in-paris', 'snippet': '3 Unique Hotels In Paris - Where To Stay? · 1. Shangri-La, Paris · 2. Le Metropolitan · 3. Le Meurice · BONUS: Airelles Château De Versailles, Le ...', 'position': 2}, {'title': 'Unique & Fun Hotels in Paris | Acendas Travel Blog', 'link': 'https://acendas.com/vacation/unique-fun-hotels-paris/', 'snippet': 'Here is a collection of cool, quirky and unusual hotels in Paris that can make your trip even more fabulous. Talk with your Acendas Travel ...', 'position': 3}, {'title': 'THE 10 BEST Paris Adventure Hotels 2025 (Prices) - Tripadvisor', 'link': 'https://www.tripadvisor.ie/HotelsList-Paris-Adventure-Hotels-zfp24175313.html', 'snippet': 'Paris Adventure Hotels: Find 18119 traveller reviews, candid photos, and the top ranked Adventure Hotels in Paris on Tripadvisor.', 'position': 4}, {'title': 'Choosing a hotel in Paris is a bit overwhelming. How did you choose?', 'link': 'https://www.reddit.com/r/ParisTravelGuide/comments/xmub8s/choosing_a_hotel_in_paris_is_a_bit_overwhelming/', 'snippet': 'A mix of price range, location and quality, set yourself limits on what you can afford per night but make sure its still of decent standard.', 'position': 5}, {'title': 'The Amazing Macaron-themed Hotel Room: A Review Of Vice Versa ...', 'link': 'https://www.adventureswithluda.com/macaron-themed-hotel-room-review-of-vice-versa-unique-boutique-hotel-paris-france/', 'snippet': 'Vice Versa is one of the best hotels in Paris, France. All the rooms are decorated in the seven sins, including the macaron room I stayed in ...', 'position': 6}, {'title': \"21 of the Best Boutique Hotels in Paris Couldn't Be More Charming\", 'link': 'https://www.elledecor.com/life-culture/travel/g27956864/boutique-hotels-paris/', 'snippet': \"21 of the Best Boutique Hotels in Paris Couldn't Be More Charming · Hôtel de l'Abbaye Saint-Germain · Hôtel Rochechouart · Grand Powers Paris · What ...\", 'position': 7}, {'title': 'Alternative Paris: Unique Hotels in Paris - A Worldwide Travel Blog', 'link': 'https://www.nowgoseeit.com/blog/unique-hotels-in-paris', 'snippet': 'From charming boutique hotels to floating houseboats, discover unique places to stay while you enjoy the city. Whether seeking romance or ...', 'position': 8}, {'title': 'Maison Souquet | Paris | Hotel & Spa | 5 Stars | Luxury | Official ...', 'link': 'https://www.maisonsouquet.com/en/', 'snippet': 'Awarded “the most romantic hotel in the world,” Maison Souquet offers a unique setting for lovers of discreet hideaways and secret rendezvous.', 'position': 9, 'sitelinks': [{'title': 'Salons', 'link': 'https://www.maisonsouquet.com/en/salons-2/'}, {'title': 'Spa', 'link': 'https://www.maisonsouquet.com/en/spa-2/'}, {'title': 'House', 'link': 'https://www.maisonsouquet.com/en/maison-souquet/'}, {'title': 'Rooms', 'link': 'https://www.maisonsouquet.com/en/rooms/'}]}, {'title': 'Where to Stay in Paris: The Best Neighborhoods and Hotels', 'link': 'https://www.travelandleisure.com/hotels-resorts/where-to-stay-in-paris', 'snippet': \"I've curated a selection of my favorite hotels all around the city, from a maximalist new boutique hotel in the Marais to a neoclassical château.\", 'position': 10}], 'peopleAlsoAsk': [{'question': 'Which part of Paris is best to stay in?', 'snippet': 'Best Neighborhood in Paris for Foodies: Les Halles, 1st & 2nd Districts. Best Neighborhood in Paris for Fashionistas: Champs Élysées / Golden Triangle, 8th Arrondissement. Best Paris Neighborhood in Paris for Families: Saint Germain des Prés, 6th Arrondissement.', 'title': 'Where to Stay in Paris: 10 Best Neighborhoods', 'link': 'https://www.parisdiscoveryguide.com/where-to-stay-in-paris.html'}, {'question': 'How many days in Paris is enough?', 'snippet': \"While three days is better than nothing, I think you need more time than that. Ideally, I think you should plan on spending at least five days in Paris in order to see the bare minimum of what the City of Lights has to offer. There's just too much to do.\", 'title': 'A Detailed Paris Itinerary for 3-5 Days (Updated 2025) - Nomadic Matt', 'link': 'https://www.nomadicmatt.com/travel-blogs/how-to-spend-5-days-in-paris/'}, {'question': 'What to be wary of in Paris?', 'snippet': 'In Paris, avoid not being aware of your surroundings. Lots of sketchy people in touristic areas and the metro. Never leave stuff unattended. Try not to look too much like a tourist and flaunting your valuables. This will make you a target.', 'title': 'Things to avoid in Paris? : r/ParisTravelGuide', 'link': 'https://www.reddit.com/r/ParisTravelGuide/comments/12sut55/things_to_avoid_in_paris/'}, {'question': 'Is it cheaper to stay outside Paris?', 'snippet': \"It may be a bit cheaper, but that is compensated by higher travel expenses and time spend to explore the city. Whether it is worth it is for you to decide. Only you know what the price difference is you're looking at and what your time is worth to you. My take, in general no, but it is subjective.\", 'title': 'Worth it to stay outside the big cities? Barcelona, Paris, Munich : r/travel', 'link': 'https://www.reddit.com/r/travel/comments/1bqc9c0/worth_it_to_stay_outside_the_big_cities_barcelona/'}], 'relatedSearches': [{'query': 'Quirky places to stay in Paris'}, {'query': 'Unusual hotels Paris'}, {'query': 'Hotel Joke Paris'}, {'query': 'Secret de Paris - Hotel & Spa reviews'}, {'query': 'Hotel Joke Paris Tripadvisor'}, {'query': 'Hôtel insolite Paris'}], 'credits': 1}\u001b[00m\n",
            "\n",
            "\n",
            "\u001b[1m\u001b[95m# Agent:\u001b[00m \u001b[1m\u001b[92mTravel Planner\u001b[00m\n",
            "\u001b[95m## Using tool:\u001b[00m \u001b[92mSearch the internet with Serper\u001b[00m\n",
            "\u001b[95m## Tool Input:\u001b[00m \u001b[92m\n",
            "\"{\\\"search_query\\\": \\\"adventurous dining experiences in Paris\\\"}\"\u001b[00m\n",
            "\u001b[95m## Tool Output:\u001b[00m \u001b[92m\n",
            "{'searchParameters': {'q': 'adventurous dining experiences in Paris', 'type': 'search', 'num': 10, 'engine': 'google'}, 'knowledgeGraph': {'title': 'Under the Sea', 'type': 'Restaurant in Paris, France', 'website': '', 'imageUrl': '', 'description': '', 'descriptionSource': '', 'descriptionLink': '', 'attributes': {}}, 'organic': [{'title': '10 Best Food Experiences In Paris from Food Travelist', 'link': 'https://foodtravelist.com/10-best-food-experiences-in-paris/', 'snippet': '10 Best Food Experiences in Paris · 1. La Bourse et La Vie Bistro · 2. Pierre Sang Bistro · 3. Le Monte Carlo Brasserie · 6. Alain Ducasse Cooking School · 7. Rungis ...', 'position': 1}, {'title': 'THE TOP 10 Paris Dining Experiences (Prices from $21) - Viator', 'link': 'https://www.viator.com/Paris-tours/Dining-Experiences/d479-g6-c20', 'snippet': 'Top Paris Dining Experiences ; Paris Seine River Dinner Cruise with Live Music by Bateaux Mouches · $128 ; Paris en Scene 3 Course Seine River Dinner Cruise · $69.', 'position': 2}, {'title': 'Restaurants with cool/fun/unique vibe : r/ParisTravelGuide - Reddit', 'link': 'https://www.reddit.com/r/ParisTravelGuide/comments/1awbpf0/restaurants_with_coolfununique_vibe/', 'snippet': 'Les refuge des fondus. Definitely fun and unique. Fondue, drinking wine out of baby bottles (weird, but unique!), writing on the walls, singing and having a ...', 'position': 3, 'sitelinks': [{'title': 'Most unique restaurants in Paris? : r/ParisTravelGuide', 'link': 'https://www.reddit.com/r/ParisTravelGuide/comments/15l8g36/most_unique_restaurants_in_paris/'}, {'title': 'Best restaurant experience in Paris? : r/travel', 'link': 'https://www.reddit.com/r/travel/comments/tf3w6h/best_restaurant_experience_in_paris/'}, {'title': 'Fun and Innovative Paris Restaurant? : r/finedining', 'link': 'https://www.reddit.com/r/finedining/comments/192kfl9/fun_and_innovative_paris_restaurant/'}, {'title': 'Great dining experiences? : r/ParisTravelGuide', 'link': 'https://www.reddit.com/r/ParisTravelGuide/comments/15owq8n/great_dining_experiences/'}]}, {'title': '12 Best Paris Food & Dining Experiences - Sherpa Food Tours', 'link': 'https://www.sherpafoodtours.com/paris-food-experience/', 'snippet': 'Le Jules Verne offers a dining experience that marries exquisite cuisine with an unparalleled view, making it a must-visit destination. Situated ...', 'position': 4}, {'title': '8 of the Most Unique Restaurants to Try in Paris for 2024', 'link': 'https://thetourguy.com/travel-blog/france/paris/unique-restaurants-in-paris-this-year/', 'snippet': 'Le Jules Verne is a 1-Michelin star restaurant located on the second floor of the Eiffel Tower. With panoramic views and great food, this is one ...', 'position': 5}, {'title': '50 Cute and themed restaurants in Paris - Wanderlog', 'link': 'https://wanderlog.com/list/geoCategory/47441/cute-and-themed-restaurants-in-paris', 'snippet': \"We've collected the most-often-mentioned 50 places from other articles, including favorites like Septime, Le Train Bleu, and Café de Flore.\", 'position': 6}, {'title': '15 of the Best Unique Dining Experiences in Paris - Viator', 'link': 'https://www.viator.com/en-IN/blog/Best-of-Paris-Unique-Dining-Experiences/l16349', 'snippet': '15 of the Best Unique Dining Experiences in Paris · 1. Get your culinary bearings on a food-focused walking tour · 2. Relax with a picnic in the park · 3. Eat ...', 'position': 7}, {'title': 'Funny and/or outrageous dining experiences. - Paris Forum', 'link': 'https://www.tripadvisor.com/ShowTopic-g187147-i14-k388080-o40-Funny_and_or_outrageous_dining_experiences-Paris_Ile_de_France.html', 'snippet': 'Funny and/or outrageous dining experiences. ; Hotel de France Quartier Latin. 462 reviews ; Hotel Le Petit Paris. 1,462 reviews ; Hotel Americain. 242 reviews.', 'position': 8}, {'title': 'Seeking a Great Paris Dining Experience - Rick Steves Travel Forum', 'link': 'https://community.ricksteves.com/travel-forum/france/great-paris-dining-experience', 'snippet': 'a more homely but excellent experience is Chez Dumonet where you can get really good boeuf bourguignon, or steak frites or duck confit etc and ...', 'position': 9}, {'title': '24 unusual food experiences in Paris', 'link': 'https://parisjetaime.com/eng/article/24-unusual-food-experiences-in-paris-a1688', 'snippet': '24 unusual food experiences in Paris · 1. An argentinian pizza · 2 A Hong Kong coffee shop · 3. Eating and scratching · 4. Closed burgers · 5. Start with ...', 'position': 10, 'sitelinks': [{'title': '3. Eating And Scratching', 'link': 'https://parisjetaime.com/eng/article/24-unusual-food-experiences-in-paris-a1688#:~:text=3.%20Eating%20and%20scratching'}, {'title': '9. Explore A Working-Class...', 'link': 'https://parisjetaime.com/eng/article/24-unusual-food-experiences-in-paris-a1688#:~:text=9.%20Explore%20a%20working%2Dclass%20bistro'}, {'title': '14. The Best All-You-Can-Eat...', 'link': 'https://parisjetaime.com/eng/article/24-unusual-food-experiences-in-paris-a1688#:~:text=14.%20The%20best%20all%2Dyou%2Dcan%2Deat%20buffet%20in%20Paris'}]}], 'peopleAlsoAsk': [{'question': 'Where do the Kardashians eat in Paris?', 'snippet': \"Join us as we try the famous Ferdi in Paris, known as Kim Kardashian's favorite restaurant. Experience the flavors of Paris in this iconic dining spot.\", 'title': \"Exploring Ferdi: Kim Kardashian's Favorite Restaurant in Paris - TikTok\", 'link': 'https://www.tiktok.com/@americanfille/video/7426098600612056353'}, {'question': 'Where do celebrities go for dinner in Paris?', 'snippet': \"THE FAVORITE RESTAURANTS OF CELEBRITIES IN PARIS\\nL'Hôtel de L'Abbaye. The Hotel de l'Abbaye is a haven of tranquility, like few places in Paris. ...\\nL'Avenue. ...\\nLe Fouquet's. ...\\nLe Café Charlot. ...\\nLa Casa Bini. ...\\nLe Pershing Hall.\", 'title': 'The Favorite Restaurants of Celebrities in Paris | Gastronomos', 'link': 'https://gastronomos.fr/en/the-favorite-restaurants-of-celebrities-in-paris/'}, {'question': 'Where is a must to eat in Paris?', 'snippet': 'RESTAURANTS IN PARIS\\nUnder The Sea Restaurant - Ephemera. (1,392) Closed now. ...\\nLa Jacobine. (2,835) Closed now. ...\\nChez Marcel. (961) Closed now. ...\\nLe Bouillon Chartier Grands Boulevards. (17,004) ...\\nLe New York. (586) ...\\nPedzouille La Grange. (600) ...\\nStellar Restaurant - Ephemera. (928) ...\\nLes Fondus de la Raclette Paris 14 - Montparnasse. (394)', 'title': 'THE 10 BEST Restaurants in Paris (Updated February 2025)', 'link': 'https://www.tripadvisor.com/Restaurants-g187147-Paris_Ile_de_France.html'}, {'question': \"What was Julia Child's favorite restaurant in Paris?\", 'snippet': \"Chez Georges is known as one of Julia Child's favorite restaurants, and I certainly know why! My boyfriend and I were two of the only tourists in the restaurant, and we were...\", 'title': 'Thank you Julia Child! - Review of Chez Georges, Paris, France', 'link': 'https://www.tripadvisor.com/ShowUserReviews-g187147-d714962-r198179279-Chez_Georges-Paris_Ile_de_France.html'}], 'relatedSearches': [{'query': 'Best adventurous dining experiences in paris'}, {'query': 'Dinner experience Paris'}, {'query': 'Foodie things to do in Paris'}, {'query': 'Best lunch restaurants in Paris'}, {'query': 'Restaurant Paris'}, {'query': 'Fine dining Paris'}, {'query': 'Private food tours Paris'}, {'query': 'Best new restaurants Paris'}], 'credits': 1}\n",
            "\n",
            "\n",
            "You ONLY have access to the following tools, and should NEVER make up tools that are not listed here:\n",
            "\n",
            "Tool Name: Search the internet with Serper\n",
            "Tool Arguments: {'search_query': {'description': 'Mandatory search query you want to use to search the internet', 'type': 'str'}}\n",
            "Tool Description: A tool that can be used to search the internet with a search_query. Supports different search types: 'search' (default), 'news'\n",
            "\n",
            "IMPORTANT: Use the following format in your response:\n",
            "\n",
            "```\n",
            "Thought: you should always think about what to do\n",
            "Action: the action to take, only one name of [Search the internet with Serper], just the name, exactly as it's written.\n",
            "Action Input: the input to the action, just a simple JSON object, enclosed in curly braces, using \" to wrap keys and values.\n",
            "Observation: the result of the action\n",
            "```\n",
            "\n",
            "Once all necessary information is gathered, return the following format:\n",
            "\n",
            "```\n",
            "Thought: I now know the final answer\n",
            "Final Answer: the final answer to the original input question\n",
            "```\u001b[00m\n",
            "\n",
            "\n",
            "\u001b[1m\u001b[95m# Agent:\u001b[00m \u001b[1m\u001b[92mTravel Planner\u001b[00m\n",
            "\u001b[95m## Final Answer:\u001b[00m \u001b[92m\n",
            "```\n",
            "## Adventurous Paris Itinerary (5 Days)\n",
            "\n",
            "This itinerary focuses on unique and adventurous experiences in Paris, balancing iconic landmarks with off-the-beaten-path activities and dining.\n",
            "\n",
            "**Day 1: Parisian Heights & Hidden Depths**\n",
            "\n",
            "*   **Morning (Activity):** **Eiffel Tower Climbing Adventure**. Skip the elevator and climb the stairs to the second floor for a thrilling workout and unique perspective. Book tickets in advance online to avoid long queues.\n",
            "*   **Lunch (Restaurant):** **Le Jules Verne** (Eiffel Tower). Enjoy a Michelin-starred meal with unparalleled panoramic views. Reserve well in advance. Alternative: picnic lunch in the Champ de Mars for a budget-friendly option.\n",
            "*   **Afternoon (Activity):** **Paris Catacombs**. Explore the underground ossuaries holding the remains of millions of Parisians. This is a chilling and fascinating experience. Book tickets online to avoid long queues, as entry is timed.\n",
            "*   **Evening (Accommodation):** **Vice Versa Hotel**. Stay in a unique boutique hotel where each room is themed around one of the seven deadly sins. Offers a quirky and memorable experience.\n",
            "*   **Dinner (Restaurant):** **Le Refuge des Fondus**. A fun and unique fondue restaurant where you drink wine from baby bottles and can write on the walls. Expect a lively and unconventional atmosphere.\n",
            "\n",
            "**Day 2: Urban Exploration & Artistic Expression**\n",
            "\n",
            "*   **Morning (Activity):** **Street Art Tour of Belleville**. Explore the vibrant street art scene in the Belleville neighborhood with a guided tour. Learn about the artists and their creations. Alternatively, explore the area independently using online guides.\n",
            "*   **Lunch (Restaurant):** **Street food in Belleville**. Enjoy a variety of international cuisines in this diverse neighborhood, from Vietnamese pho to North African pastries.\n",
            "*   **Afternoon (Activity):** **THATLou (Treasure Hunt at the Louvre)**. Participate in an interactive treasure hunt at the Louvre Museum. This is a fun and engaging way to see the masterpieces while solving puzzles.\n",
            "*   **Evening (Accommodation):** **Maison Souquet**. A luxurious and discreet hotel in Pigalle, inspired by the Belle Époque era. Known as one of the most romantic hotels in the world, it offers a unique and sensual experience.\n",
            "*   **Dinner (Restaurant):** **Dans le Noir? Paris**. Dine in complete darkness and challenge your senses. This is a unique and thought-provoking experience that focuses on taste, smell, and touch.\n",
            "\n",
            "**Day 3: Seine River Adventures & Montmartre Charm**\n",
            "\n",
            "*   **Morning (Activity):** **Seine River Kayaking/Paddleboarding**. Experience Paris from a unique perspective by kayaking or paddleboarding on the Seine River. Several companies offer guided tours.\n",
            "*   **Lunch (Restaurant):** **Lunch Cruise on the Seine**. Enjoy a relaxing lunch while cruising along the Seine, taking in the sights of Paris from the water.\n",
            "*   **Afternoon (Activity):** **Montmartre Exploration & Sacré-Cœur Basilica**. Explore the charming streets of Montmartre, visit the Sacré-Cœur Basilica for stunning views, and watch artists at work in Place du Tertre.\n",
            "*   **Evening (Accommodation):** **Hotel Joke - Astotel**. A playful and colourful hotel with a whimsical atmosphere. Located in the heart of Paris, it offers a fun and cheerful stay.\n",
            "*   **Dinner (Restaurant):** **Le Consulat**. A classic Montmartre bistro with a charming atmosphere and traditional French cuisine. It has been a popular spot for artists and writers for over a century.\n",
            "\n",
            "**Day 4: Escape Games & Virtual Reality**\n",
            "\n",
            "*   **Morning (Activity):** **Escape Game**. Test your problem-solving skills and teamwork by participating in an escape game. Paris has a variety of escape rooms with different themes and difficulty levels.\n",
            "*   **Lunch (Restaurant):** **Bouillon Pigalle**. Enjoy affordable and traditional French cuisine in a historic bouillon restaurant. Expect a bustling atmosphere and classic dishes.\n",
            "*   **Afternoon (Activity):** **Virtual Reality Experience**. Immerse yourself in a virtual world with a VR experience. Several VR arcades in Paris offer a variety of games and simulations.\n",
            "*   **Evening (Accommodation):** **Hotel 34B - Astotel**. A stylish and modern hotel with a central location. It offers comfortable rooms and a relaxing atmosphere.\n",
            "*   **Dinner (Restaurant):** **Ephemera Under the Sea**. Dive into an immersive underwater dining experience at Ephemera Under the Sea. Enjoy delicious cuisine surrounded by stunning visuals of marine life projected onto the walls.\n",
            "\n",
            "**Day 5: Day Trip to Fontainebleau Forest & Farewell Dinner**\n",
            "\n",
            "*   **Morning (Activity):** **Day Trip to Fontainebleau Forest**. Escape the city and explore the beautiful Fontainebleau Forest. Enjoy hiking, rock climbing, or simply relaxing in nature. Accessible by train from Paris.\n",
            "*   **Lunch (Restaurant):** **Picnic lunch in Fontainebleau Forest**. Pack a picnic and enjoy a meal surrounded by nature.\n",
            "*   **Afternoon (Activity):** **Continue exploring Fontainebleau Forest or visit the Château de Fontainebleau**.\n",
            "*   **Evening (Accommodation):** Return to your chosen hotel in Paris.\n",
            "*   **Dinner (Restaurant):** **Le Train Bleu**. Enjoy a grand farewell dinner in this stunning Belle Époque restaurant located inside the Gare de Lyon train station. Expect opulent decor and exquisite French cuisine.\n",
            "\n",
            "**Notes:**\n",
            "\n",
            "*   Book accommodations, tours, and popular restaurants well in advance, especially during peak season.\n",
            "*   Consider purchasing a Paris Pass for access to museums and attractions, as well as public transportation.\n",
            "*   Wear comfortable shoes, as you will be doing a lot of walking.\n",
            "*   Learn a few basic French phrases to enhance your experience.\n",
            "*   Be aware of your surroundings and take precautions against pickpockets, especially in touristy areas.\n",
            "\n",
            "This itinerary can be customized to your interests and budget. Enjoy your adventurous trip to Paris!\n",
            "```\u001b[00m\n",
            "\n",
            "\n",
            "\u001b[1m\u001b[95m# Agent:\u001b[00m \u001b[1m\u001b[92mLocal Expert\u001b[00m\n",
            "\u001b[95m## Task:\u001b[00m \u001b[92mProvide insider tips, cultural insights, and hidden gems for paris. Consider local customs, best times to visit specific locations, and authentic local experiences.\u001b[00m\n",
            "\n",
            "\n",
            "\u001b[1m\u001b[95m# Agent:\u001b[00m \u001b[1m\u001b[92mLocal Expert\u001b[00m\n",
            "\u001b[95m## Thought:\u001b[00m \u001b[92mOkay, I will provide insider tips, cultural insights, and hidden gems for Paris, drawing upon my local knowledge and the provided itinerary. I'll use the search tool to enrich my response with up-to-date information where necessary.\u001b[00m\n",
            "\u001b[95m## Using tool:\u001b[00m \u001b[92mSearch the internet with Serper\u001b[00m\n",
            "\u001b[95m## Tool Input:\u001b[00m \u001b[92m\n",
            "\"{\\\"search_query\\\": \\\"paris local customs and etiquette\\\"}\"\u001b[00m\n",
            "\u001b[95m## Tool Output:\u001b[00m \u001b[92m\n",
            "{'searchParameters': {'q': 'paris local customs and etiquette', 'type': 'search', 'num': 10, 'engine': 'google'}, 'organic': [{'title': 'Customs and Etiquette in Paris | Moon Travel Guides', 'link': 'https://www.moon.com/travel/planning/paris-customs-and-etiquette/', 'snippet': 'Neighbors greet each other with a cordial bonjour and au revoir, sales clerks will always refer to you as madame, mademoiselle, or monsieur.', 'position': 1}, {'title': '20 French Traditions to Customs to Know Before You Go', 'link': 'https://www.goaheadtours.com/travel-blog/articles/french-traditions-customs-to-know-before-you-go', 'snippet': 'Always dress your best. Paris is noted as a fashion capital and according to French traditions, Parisians dress in a simple, sophisticated way. To blend in with ...', 'position': 2}, {'title': '7 Social Customs in Paris to Know Before Visiting - tiqets.com', 'link': 'https://www.tiqets.com/blog/social-customs-in-paris/', 'snippet': '1. Greetings, stranger! · 2. The original French kiss · 3. To tutoyer – or not to tutoyer · 4. No shouting in public (transport) · 5. No eating on- ...', 'position': 3}, {'title': 'Paris: The Cultural Codes and Etiquette - Trippin World', 'link': 'https://trippin.world/feature/paris-the-cultural-codes-and-etiquette', 'snippet': \"PDA and holding hands is widely accepted, but when greeting someone, French people don't usually hug. You give bises, which is where you “kiss” both cheeks ( ...\", 'position': 4}, {'title': 'The customs of the French | Campus France', 'link': 'https://www.campusfrance.org/en/French-customs-traditions-cliches', 'snippet': \"You don't do the bise with everyone, nor in every situation. Depending on where you live, you do two, three or four bises, starting with either the right or ...\", 'position': 5}, {'title': '21 French customs and traditions to know before your next trip', 'link': 'https://www.trafalgar.com/real-word/french-customs-and-traditions/', 'snippet': \"1. Never take wine to a dinner party · 2. Try and arrive at least 15 to 20 minutes late · 3. Kiss, kiss · 4. Always say hello and goodbye · 5. You'll have to ask ...\", 'position': 6}, {'title': 'Visiting Paris? Follow These Rules… - Lost in Cheeseland', 'link': 'https://lostincheeseland.com/2010/08/visiting-paris-follow-these-rules/', 'snippet': 'My rules (and suggestions) for tourists in Paris: 1) The cardinal rule – say “bonjour”: even in your most atrocious French, when you approach people.', 'position': 7}, {'title': 'French Etiquette: Local Rules to Follow When Visiting France - Thrillist', 'link': 'https://www.thrillist.com/travel/nation/french-etiquette-tips', 'snippet': \"If you're about to travel to France, here are a few guidelines for how to behave so you won't offend or be offended by the locals.\", 'position': 8}, {'title': '10 Essential Tips On French Etiquette (2024 Edition)', 'link': 'https://www.private-frenchlessons-paris.com/blog/tips-french-etiquette', 'snippet': 'A polite formality governs daily life in Paris. Say “Bonjour” (hello ), “Merci” (thank you) and “au revoir” ( goodbye ) whenever you leave a place.', 'position': 9, 'sitelinks': [{'title': 'French Etiquette- 10...', 'link': 'https://www.private-frenchlessons-paris.com/blog/tips-french-etiquette#:~:text=French%20Etiquette%2D%2010%20Essential%20Tips'}, {'title': \"1 Always ``hello''...\", 'link': 'https://www.private-frenchlessons-paris.com/blog/tips-french-etiquette#:~:text=1%20Always%20%60%60hello%27%27%20%2D%20toujours%20%60%60bonjour%27%27%20%21'}, {'title': '5 Table Manners', 'link': 'https://www.private-frenchlessons-paris.com/blog/tips-french-etiquette#:~:text=5%20Table%20manners'}]}], 'peopleAlsoAsk': [{'question': 'What are the local customs in Paris, France?', 'snippet': \"21 FRENCH CUSTOMS AND TRADITIONS YOU NEED TO KNOW ABOUT BEFORE YOUR NEXT TRIP\\nNever take wine to a dinner party. ...\\nTry and arrive at least 15 to 20 minutes late. ...\\nKiss, kiss. ...\\nAlways say hello and goodbye. ...\\nYou'll have to ask for ice. ...\\nThe art of downplaying a compliment. ...\\nChivalrous to the end. ...\\nGrab a baguette.\", 'title': '21 French customs and traditions to know before your next trip', 'link': 'https://www.trafalgar.com/real-word/french-customs-and-traditions/'}, {'question': 'What is proper etiquette for Paris?', 'snippet': 'A polite formality governs daily life in Paris. Say “Bonjour” (hello ), “Merci” (thank you) and “au revoir” ( goodbye ) whenever you leave a place. At first it can be quite disconcerting being greeted by a complete stranger in the close confines of an elevator.\\nMay 14, 2024', 'title': '10 Essential Tips On French Etiquette (2024 Edition)', 'link': 'https://www.private-frenchlessons-paris.com/blog/tips-french-etiquette'}, {'question': \"Do and don'ts in Paris?\", 'snippet': \"13 UNWRITTEN RULES TO KNOW BEFORE TRAVELING TO PARIS\\nNever forget to say 'bonjour' ...\\nTreat waiting staff like esteemed equals. ...\\nRemember to carry some cash. ...\\nCheck your Metro exit. ...\\nEmbrace cycling. ...\\nDon't discount the buses. ...\\nLearn about French meal times. ...\\nApéro is a way of life.\", 'title': '13 Unwritten Rules to Know Before Traveling to Paris', 'link': 'https://www.cntraveler.com/story/unwritten-rules-to-know-before-traveling-to-paris'}, {'question': 'What are common French customs?', 'snippet': \"Ever notice how the French kiss each other on the cheeks as a greeting? It's a ritual that may seem banal, but which is in fact very precise. You don't do the bise with everyone, nor in every situation. Depending on where you live, you do two, three or four bises, starting with either the right or left cheek.\", 'title': 'The customs of the French | Campus France', 'link': 'https://www.campusfrance.org/en/French-customs-traditions-cliches'}], 'relatedSearches': [{'query': 'Paris local customs and etiquette for tourists'}, {'query': 'Paris local customs and etiquette food'}, {'query': 'France traditions and culture'}, {'query': 'Interesting French traditions'}, {'query': '10 French customs'}, {'query': 'Paris traditions'}, {'query': 'Paris manners meaning'}, {'query': 'Etiquette and cultural expectations in Paris'}], 'credits': 1}\u001b[00m\n",
            "\n",
            "\n",
            "\u001b[1m\u001b[95m# Agent:\u001b[00m \u001b[1m\u001b[92mLocal Expert\u001b[00m\n",
            "\u001b[95m## Final Answer:\u001b[00m \u001b[92m\n",
            "**A Local's Guide to Experiencing Authentic Paris**\n",
            "\n",
            "Beyond the iconic landmarks, Paris offers a wealth of authentic experiences waiting to be discovered. Here's how to delve deeper into the Parisian lifestyle, avoid common tourist traps, and embrace the city's unique culture.\n",
            "\n",
            "**I. Cultural Insights & Local Customs:**\n",
            "\n",
            "*   **Bonjour, Madame/Monsieur:** This is paramount. Always greet shopkeepers, waiters, and even people you briefly interact with (like in an elevator) with \"Bonjour, Madame/Monsieur.\" A simple \"Bonjour\" is sufficient for casual encounters. Forgetting this is considered rude. When leaving, say \"Au revoir, Madame/Monsieur\".\n",
            "*   **Embrace the \"Flânerie\":** The art of strolling and observing is deeply ingrained in Parisian culture. Don't rush from one sight to another. Take your time, wander through the streets, and soak in the atmosphere. Find a park and people-watch.\n",
            "*   **Apéro Culture:** The \"apéro\" is a pre-dinner drinks and snacks ritual. It's a time to relax, socialize, and whet your appetite. Find a local bar and order a glass of wine or a \"kir royale\" (crème de cassis and champagne) along with some olives or charcuterie.\n",
            "*   **Meal Times:** Parisians typically eat lunch around 1-2 pm and dinner around 8-9 pm. Many restaurants close between lunch and dinner service.\n",
            "*   **Table Manners:** Keep your hands on the table (not in your lap) during meals. Bread is usually placed directly on the table (no bread plate). Don't cut your salad.\n",
            "*   **Fashion Consciousness:** Parisians are known for their style. While you don't need to dress extravagantly, avoid overly casual attire (like athletic wear) when dining out or visiting certain establishments. Simple, sophisticated attire is key.\n",
            "*   **Respect for Personal Space:** Parisians generally maintain a greater sense of personal space than people in some other cultures. Avoid standing too close to others in queues or on public transport.\n",
            "*   **The \"Bise\" (Cheek Kissing):** This is a common greeting between friends and family. The number of kisses (usually two, but sometimes one or four) and which cheek to start with varies by region. Don't initiate it unless you know the other person well.\n",
            "*   **Avoid Loud Talking:** Be mindful of noise levels, especially in public transport and restaurants.\n",
            "*   **Don't Expect Iced Water:** It's not common to automatically receive iced water in restaurants. You can ask for \"une carafe d'eau\" (a carafe of tap water), which is free. If you prefer ice, you'll have to specifically request it (\"avec des glaçons\").\n",
            "*    **Tipping:** Service is usually included in restaurant bills. However, it's customary to leave a small tip (a few euros) for exceptional service.\n",
            "\n",
            "**II. Hidden Gems & Authentic Experiences (Enhancements to the Provided Itinerary):**\n",
            "\n",
            "*   **Beyond the Eiffel Tower:** While climbing the Eiffel Tower is a great experience, consider visiting the *Tour Saint-Jacques*. This former bell tower offers panoramic views and a glimpse into Parisian history. Plus, it's less crowded.\n",
            "*   **Belleville's Secrets:** Add a visit to the *Parc de Belleville* for stunning views of Paris and a chance to relax away from the crowds. Explore the *Cité du Figuier*, a hidden alleyway with charming workshops and studios.\n",
            "*   **Montmartre Off the Beaten Path:** Instead of just Place du Tertre, explore the *Musée de Montmartre* for a deeper understanding of the area's artistic history. Walk along the *Rue de l'Abreuvoir*, one of the most picturesque streets in Paris. Visit the *Vignes du Clos Montmartre*, a small vineyard that produces wine each year.\n",
            "*   **Canal Saint-Martin Charm:** Take a stroll along the Canal Saint-Martin, a trendy area with boutiques, cafes, and bars. Consider a boat tour on the canal. *Point Éphémère* is a cool art space and bar located right on the canal.\n",
            "*   **Covered Passages:** Explore the *Passages Couverts* (covered passages), such as Galerie Vivienne and Passage des Panoramas. These historic arcades are filled with unique shops, bookstores, and cafes.\n",
            "*   **Markets:** Visit a local market like the *Marché des Enfants Rouges* (the oldest covered market in Paris) or the *Marché Bastille*. Sample local produce, cheeses, and other delicacies.\n",
            "*   **Parks and Gardens:** Escape the hustle and bustle in the *Jardin du Luxembourg*, *Parc des Buttes-Chaumont*, or *Jardin des Plantes*.\n",
            "*   **Literary Haunts:** Visit Shakespeare and Company, a historic English-language bookstore. Explore the Latin Quarter and its many bookshops and cafes.\n",
            "*   **Affordable Culinary Delights:** For a truly authentic experience, skip the tourist traps and seek out local \"boulangeries\" (bakeries) and \"pâtisseries\" (pastry shops). Grab a croissant, pain au chocolat, or éclair for a delicious and affordable treat. Enjoy a \"crêpe\" from a street vendor.\n",
            "*   **Day Trip Alternatives:** Besides Fontainebleau, consider a day trip to *Versailles* (though be prepared for crowds), *Giverny* (Monet's gardens), or *Provins* (a medieval town).\n",
            "\n",
            "**III. When to Visit:**\n",
            "\n",
            "*   **Shoulder Seasons (April-May & September-October):** These months offer pleasant weather, fewer crowds, and a good balance of affordability and attractions.\n",
            "*   **Avoid August:** Many Parisian businesses close down in August for summer vacations.\n",
            "\n",
            "**IV. Getting Around:**\n",
            "\n",
            "*   **Métro:** The Paris Métro is efficient and affordable. Purchase a \"Navigo Découverte\" pass for unlimited travel within zones 1-5.\n",
            "*   **Walking:** Paris is a very walkable city. Explore different neighborhoods on foot.\n",
            "*   **Buses:** The bus system is also extensive and can be a good option for longer distances.\n",
            "*   **Vélib' (Bike Share):** Rent a Vélib' bike for a fun and eco-friendly way to explore the city.\n",
            "\n",
            "**V. Safety Tips:**\n",
            "\n",
            "*   **Be Aware of Pickpockets:** Be especially vigilant in crowded tourist areas, on the Métro, and around major attractions. Keep your belongings secure.\n",
            "*   **Avoid Scams:** Be wary of people approaching you with petitions, bracelets, or other unsolicited offers.\n",
            "*   **Keep an Eye on Your Belongings:** Never leave your bags unattended, especially in cafes and restaurants.\n",
            "\n",
            "**VI. Restaurant Recommendations (Beyond the Itinerary):**\n",
            "\n",
            "*   **For traditional French cuisine:** *Le Bouillon Chartier* (another affordable bouillon), *Chez Gladines* (Basque cuisine).\n",
            "*   **For a unique dining experience:** *Pink Mamma* (Italian trattoria with stunning decor), *Derrière* (hidden restaurant with a secret entrance).\n",
            "\n",
            "By following these tips, you can move beyond the typical tourist experience and discover the true heart and soul of Paris. Enjoy your adventure!\u001b[00m\n",
            "\n",
            "\n",
            "Travel Itinerary:\n",
            "**A Local's Guide to Experiencing Authentic Paris**\n",
            "\n",
            "Beyond the iconic landmarks, Paris offers a wealth of authentic experiences waiting to be discovered. Here's how to delve deeper into the Parisian lifestyle, avoid common tourist traps, and embrace the city's unique culture.\n",
            "\n",
            "**I. Cultural Insights & Local Customs:**\n",
            "\n",
            "*   **Bonjour, Madame/Monsieur:** This is paramount. Always greet shopkeepers, waiters, and even people you briefly interact with (like in an elevator) with \"Bonjour, Madame/Monsieur.\" A simple \"Bonjour\" is sufficient for casual encounters. Forgetting this is considered rude. When leaving, say \"Au revoir, Madame/Monsieur\".\n",
            "*   **Embrace the \"Flânerie\":** The art of strolling and observing is deeply ingrained in Parisian culture. Don't rush from one sight to another. Take your time, wander through the streets, and soak in the atmosphere. Find a park and people-watch.\n",
            "*   **Apéro Culture:** The \"apéro\" is a pre-dinner drinks and snacks ritual. It's a time to relax, socialize, and whet your appetite. Find a local bar and order a glass of wine or a \"kir royale\" (crème de cassis and champagne) along with some olives or charcuterie.\n",
            "*   **Meal Times:** Parisians typically eat lunch around 1-2 pm and dinner around 8-9 pm. Many restaurants close between lunch and dinner service.\n",
            "*   **Table Manners:** Keep your hands on the table (not in your lap) during meals. Bread is usually placed directly on the table (no bread plate). Don't cut your salad.\n",
            "*   **Fashion Consciousness:** Parisians are known for their style. While you don't need to dress extravagantly, avoid overly casual attire (like athletic wear) when dining out or visiting certain establishments. Simple, sophisticated attire is key.\n",
            "*   **Respect for Personal Space:** Parisians generally maintain a greater sense of personal space than people in some other cultures. Avoid standing too close to others in queues or on public transport.\n",
            "*   **The \"Bise\" (Cheek Kissing):** This is a common greeting between friends and family. The number of kisses (usually two, but sometimes one or four) and which cheek to start with varies by region. Don't initiate it unless you know the other person well.\n",
            "*   **Avoid Loud Talking:** Be mindful of noise levels, especially in public transport and restaurants.\n",
            "*   **Don't Expect Iced Water:** It's not common to automatically receive iced water in restaurants. You can ask for \"une carafe d'eau\" (a carafe of tap water), which is free. If you prefer ice, you'll have to specifically request it (\"avec des glaçons\").\n",
            "*    **Tipping:** Service is usually included in restaurant bills. However, it's customary to leave a small tip (a few euros) for exceptional service.\n",
            "\n",
            "**II. Hidden Gems & Authentic Experiences (Enhancements to the Provided Itinerary):**\n",
            "\n",
            "*   **Beyond the Eiffel Tower:** While climbing the Eiffel Tower is a great experience, consider visiting the *Tour Saint-Jacques*. This former bell tower offers panoramic views and a glimpse into Parisian history. Plus, it's less crowded.\n",
            "*   **Belleville's Secrets:** Add a visit to the *Parc de Belleville* for stunning views of Paris and a chance to relax away from the crowds. Explore the *Cité du Figuier*, a hidden alleyway with charming workshops and studios.\n",
            "*   **Montmartre Off the Beaten Path:** Instead of just Place du Tertre, explore the *Musée de Montmartre* for a deeper understanding of the area's artistic history. Walk along the *Rue de l'Abreuvoir*, one of the most picturesque streets in Paris. Visit the *Vignes du Clos Montmartre*, a small vineyard that produces wine each year.\n",
            "*   **Canal Saint-Martin Charm:** Take a stroll along the Canal Saint-Martin, a trendy area with boutiques, cafes, and bars. Consider a boat tour on the canal. *Point Éphémère* is a cool art space and bar located right on the canal.\n",
            "*   **Covered Passages:** Explore the *Passages Couverts* (covered passages), such as Galerie Vivienne and Passage des Panoramas. These historic arcades are filled with unique shops, bookstores, and cafes.\n",
            "*   **Markets:** Visit a local market like the *Marché des Enfants Rouges* (the oldest covered market in Paris) or the *Marché Bastille*. Sample local produce, cheeses, and other delicacies.\n",
            "*   **Parks and Gardens:** Escape the hustle and bustle in the *Jardin du Luxembourg*, *Parc des Buttes-Chaumont*, or *Jardin des Plantes*.\n",
            "*   **Literary Haunts:** Visit Shakespeare and Company, a historic English-language bookstore. Explore the Latin Quarter and its many bookshops and cafes.\n",
            "*   **Affordable Culinary Delights:** For a truly authentic experience, skip the tourist traps and seek out local \"boulangeries\" (bakeries) and \"pâtisseries\" (pastry shops). Grab a croissant, pain au chocolat, or éclair for a delicious and affordable treat. Enjoy a \"crêpe\" from a street vendor.\n",
            "*   **Day Trip Alternatives:** Besides Fontainebleau, consider a day trip to *Versailles* (though be prepared for crowds), *Giverny* (Monet's gardens), or *Provins* (a medieval town).\n",
            "\n",
            "**III. When to Visit:**\n",
            "\n",
            "*   **Shoulder Seasons (April-May & September-October):** These months offer pleasant weather, fewer crowds, and a good balance of affordability and attractions.\n",
            "*   **Avoid August:** Many Parisian businesses close down in August for summer vacations.\n",
            "\n",
            "**IV. Getting Around:**\n",
            "\n",
            "*   **Métro:** The Paris Métro is efficient and affordable. Purchase a \"Navigo Découverte\" pass for unlimited travel within zones 1-5.\n",
            "*   **Walking:** Paris is a very walkable city. Explore different neighborhoods on foot.\n",
            "*   **Buses:** The bus system is also extensive and can be a good option for longer distances.\n",
            "*   **Vélib' (Bike Share):** Rent a Vélib' bike for a fun and eco-friendly way to explore the city.\n",
            "\n",
            "**V. Safety Tips:**\n",
            "\n",
            "*   **Be Aware of Pickpockets:** Be especially vigilant in crowded tourist areas, on the Métro, and around major attractions. Keep your belongings secure.\n",
            "*   **Avoid Scams:** Be wary of people approaching you with petitions, bracelets, or other unsolicited offers.\n",
            "*   **Keep an Eye on Your Belongings:** Never leave your bags unattended, especially in cafes and restaurants.\n",
            "\n",
            "**VI. Restaurant Recommendations (Beyond the Itinerary):**\n",
            "\n",
            "*   **For traditional French cuisine:** *Le Bouillon Chartier* (another affordable bouillon), *Chez Gladines* (Basque cuisine).\n",
            "*   **For a unique dining experience:** *Pink Mamma* (Italian trattoria with stunning decor), *Derrière* (hidden restaurant with a secret entrance).\n",
            "\n",
            "By following these tips, you can move beyond the typical tourist experience and discover the true heart and soul of Paris. Enjoy your adventure!\n"
          ]
        }
      ]
    }
  ]
}