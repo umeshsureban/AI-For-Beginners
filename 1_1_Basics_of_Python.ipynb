{
  "nbformat": 4,
  "nbformat_minor": 0,
  "metadata": {
    "colab": {
      "provenance": [],
      "include_colab_link": true
    },
    "kernelspec": {
      "name": "python3",
      "display_name": "Python 3"
    },
    "language_info": {
      "name": "python"
    }
  },
  "cells": [
    {
      "cell_type": "markdown",
      "metadata": {
        "id": "view-in-github",
        "colab_type": "text"
      },
      "source": [
        "<a href=\"https://colab.research.google.com/github/umeshsureban/AI-For-Beginners/blob/main/1_1_Basics_of_Python.ipynb\" target=\"_parent\"><img src=\"https://colab.research.google.com/assets/colab-badge.svg\" alt=\"Open In Colab\"/></a>"
      ]
    },
    {
      "cell_type": "markdown",
      "source": [
        "###Python Basics: A Comprehensive Guide\n"
      ],
      "metadata": {
        "id": "DZ0Bfv9Dn3eq"
      }
    },
    {
      "cell_type": "markdown",
      "source": [
        "###1. Introduction to Python\n",
        "Python is a high-level, interpreted programming language known for its simplicity and readability. It's widely used in various fields, including web development, data science, artificial intelligence, and more.\n",
        "\n",
        "\n",
        "To run Python code in this notebook, simply click the play button next to each code cell or press Shift+Enter."
      ],
      "metadata": {
        "id": "YVzNA0axr85O"
      }
    },
    {
      "cell_type": "markdown",
      "source": [
        "###2. Variables and Data Types\n",
        "In Python, you can create variables simply by assigning a value to a name."
      ],
      "metadata": {
        "id": "X37ni-wXn_US"
      }
    },
    {
      "cell_type": "code",
      "execution_count": null,
      "metadata": {
        "id": "ogekj41nk2am"
      },
      "outputs": [],
      "source": [
        "# Integer\n",
        "age = 25\n",
        "\n",
        "print(age)"
      ]
    },
    {
      "cell_type": "code",
      "source": [
        "type(age)"
      ],
      "metadata": {
        "id": "rXrqXM2Tze5t"
      },
      "execution_count": null,
      "outputs": []
    },
    {
      "cell_type": "code",
      "source": [
        "# Float\n",
        "height = 1.75\n",
        "\n",
        "print(height)"
      ],
      "metadata": {
        "id": "zRCfy-AVoIFG"
      },
      "execution_count": null,
      "outputs": []
    },
    {
      "cell_type": "code",
      "source": [
        "type(height)"
      ],
      "metadata": {
        "id": "ItkCd_jHzqY_"
      },
      "execution_count": null,
      "outputs": []
    },
    {
      "cell_type": "code",
      "source": [
        "# String\n",
        "name = \"Satvik\"\n",
        "print(\"Name: \" + name)"
      ],
      "metadata": {
        "id": "Hj3WqjQ7oLLe"
      },
      "execution_count": null,
      "outputs": []
    },
    {
      "cell_type": "code",
      "source": [
        "print(type(name))"
      ],
      "metadata": {
        "id": "ihhgcBEucF3Y"
      },
      "execution_count": null,
      "outputs": []
    },
    {
      "cell_type": "code",
      "source": [
        "# Boolean\n",
        "is_student = True\n",
        "print(\"Is Student: \" + str(is_student))\n",
        "print(type(is_student))"
      ],
      "metadata": {
        "id": "uiScNEbjoN-O"
      },
      "execution_count": null,
      "outputs": []
    },
    {
      "cell_type": "code",
      "source": [
        "# create"
      ],
      "metadata": {
        "id": "TceFktbyCy0m"
      },
      "execution_count": null,
      "outputs": []
    },
    {
      "cell_type": "markdown",
      "source": [
        "###2.1 Lists\n",
        "Lists are ordered collections of items."
      ],
      "metadata": {
        "id": "ab4uXtksoRQH"
      }
    },
    {
      "cell_type": "code",
      "source": [
        "fruits = [\"apple\", \"banana\", \"cherry\"]\n",
        "\n",
        "fruits"
      ],
      "metadata": {
        "id": "R8o6ngnsoSGg"
      },
      "execution_count": null,
      "outputs": []
    },
    {
      "cell_type": "code",
      "source": [
        "type(fruits)"
      ],
      "metadata": {
        "id": "AFScJauG2tDc"
      },
      "execution_count": null,
      "outputs": []
    },
    {
      "cell_type": "code",
      "source": [
        "print(\"Fruits: \", fruits, \", Type: \", type(fruits))"
      ],
      "metadata": {
        "id": "dr7MurBs2qOW"
      },
      "execution_count": null,
      "outputs": []
    },
    {
      "cell_type": "code",
      "source": [
        "len(fruits)"
      ],
      "metadata": {
        "id": "Gw5W-xsm5618"
      },
      "execution_count": null,
      "outputs": []
    },
    {
      "cell_type": "code",
      "source": [
        "fruits[0]"
      ],
      "metadata": {
        "id": "Hgq4o1Wn6GWK"
      },
      "execution_count": null,
      "outputs": []
    },
    {
      "cell_type": "code",
      "source": [
        "fruits[1]"
      ],
      "metadata": {
        "id": "L503J70r6KFu"
      },
      "execution_count": null,
      "outputs": []
    },
    {
      "cell_type": "code",
      "source": [
        "fruits[-1]"
      ],
      "metadata": {
        "id": "NP6jIzIH6MrW"
      },
      "execution_count": null,
      "outputs": []
    },
    {
      "cell_type": "code",
      "source": [
        "# Accessing elements\n",
        "print(\"First fruit: \", fruits[0])\n",
        "print(\"Last fruit: \", fruits[-1])"
      ],
      "metadata": {
        "id": "ka9U2dSocdgr"
      },
      "execution_count": null,
      "outputs": []
    },
    {
      "cell_type": "code",
      "source": [
        "# Modifying lists\n",
        "fruits.append(\"date\")\n",
        "print(\"After appending 'date': \", fruits)\n",
        "\n",
        "fruits.remove(\"banana\")\n",
        "print(\"After removing 'banana': \", fruits)"
      ],
      "metadata": {
        "id": "SvOXs8MMcibG"
      },
      "execution_count": null,
      "outputs": []
    },
    {
      "cell_type": "markdown",
      "source": [
        "###2.2 Dictionaries\n",
        "Dictionaries are collections of key-value pairs."
      ],
      "metadata": {
        "id": "WoiwocIroWBo"
      }
    },
    {
      "cell_type": "code",
      "source": [
        "persons = {\n",
        "    \"name\": \"Bob\",\n",
        "    \"age\": 30,\n",
        "    \"city\": \"New York\"\n",
        "}\n",
        "\n",
        "persons"
      ],
      "metadata": {
        "id": "mGBLKCTkoXcQ"
      },
      "execution_count": null,
      "outputs": []
    },
    {
      "cell_type": "code",
      "source": [
        "type(persons)"
      ],
      "metadata": {
        "id": "rgCy46L922a1"
      },
      "execution_count": null,
      "outputs": []
    },
    {
      "cell_type": "code",
      "source": [
        "# Accessing values\n",
        "persons['name']"
      ],
      "metadata": {
        "id": "kM2IyoaCcqx-"
      },
      "execution_count": null,
      "outputs": []
    },
    {
      "cell_type": "code",
      "source": [
        "persons['city']"
      ],
      "metadata": {
        "id": "MaLmN_8J6v6T"
      },
      "execution_count": null,
      "outputs": []
    },
    {
      "cell_type": "markdown",
      "source": [
        "###3.1 If-Else Statements\n"
      ],
      "metadata": {
        "id": "1RskdAi7ocS4"
      }
    },
    {
      "cell_type": "code",
      "source": [
        "age = 67\n",
        "\n",
        "if age < 18:\n",
        "    print(\"You are a minor\")\n",
        "elif age >= 18 and age < 65:\n",
        "    print(\"You are an adult\")\n",
        "else:\n",
        "    print(\"You are a senior citizen\")"
      ],
      "metadata": {
        "id": "COnyFyWModwA"
      },
      "execution_count": null,
      "outputs": []
    },
    {
      "cell_type": "markdown",
      "source": [
        "###3.2 For Loops"
      ],
      "metadata": {
        "id": "XJVDX-nbohvj"
      }
    },
    {
      "cell_type": "code",
      "source": [
        "# Looping through a list\n",
        "fruits = [\"apple\", \"banana\", \"cherry\"]\n",
        "for x in fruits:\n",
        "    print(x)"
      ],
      "metadata": {
        "id": "ugtQJ4GyojHS"
      },
      "execution_count": null,
      "outputs": []
    },
    {
      "cell_type": "code",
      "source": [
        "# Looping with range\n",
        "for i in range(5):\n",
        "    print(i)"
      ],
      "metadata": {
        "id": "wPYFAuAwi8T8"
      },
      "execution_count": null,
      "outputs": []
    },
    {
      "cell_type": "markdown",
      "source": [
        "###3.3 While Loops"
      ],
      "metadata": {
        "id": "uZUIRJxeonI8"
      }
    },
    {
      "cell_type": "code",
      "source": [
        "count = 0\n",
        "while count < 5:\n",
        "    print(count)\n",
        "    count += 1"
      ],
      "metadata": {
        "id": "kUwJeDDpooIc"
      },
      "execution_count": null,
      "outputs": []
    },
    {
      "cell_type": "code",
      "source": [],
      "metadata": {
        "id": "aqZeb786dfFM"
      },
      "execution_count": null,
      "outputs": []
    },
    {
      "cell_type": "markdown",
      "source": [
        "###4. Functions\n",
        "Functions allow us to organize our code into reusable blocks."
      ],
      "metadata": {
        "id": "oJggpU-DrgEl"
      }
    },
    {
      "cell_type": "code",
      "source": [
        "# Defining a function\n",
        "\n",
        "def greet(name):\n",
        "    return f\"Hello, {name}!\""
      ],
      "metadata": {
        "id": "bY_arv-ojVEF"
      },
      "execution_count": null,
      "outputs": []
    },
    {
      "cell_type": "code",
      "source": [
        "# Calling the function\n",
        "\n",
        "message = greet(\"Alice\")\n",
        "print(message)"
      ],
      "metadata": {
        "id": "foFzBUItke33"
      },
      "execution_count": null,
      "outputs": []
    },
    {
      "cell_type": "code",
      "source": [
        "# Function with multiple parameters\n",
        "\n",
        "def ab_square(a,b):\n",
        "  return a**2 + b**2 + 2*a*b"
      ],
      "metadata": {
        "id": "vT3jZkYLjAVL"
      },
      "execution_count": null,
      "outputs": []
    },
    {
      "cell_type": "code",
      "source": [
        "# Calling the function\n",
        "\n",
        "ab_square(2,3)"
      ],
      "metadata": {
        "id": "TJSX-ePGjL_y"
      },
      "execution_count": null,
      "outputs": []
    },
    {
      "cell_type": "markdown",
      "source": [
        "###5. Working with Libraries\n"
      ],
      "metadata": {
        "id": "AaxDun6VweLk"
      }
    },
    {
      "cell_type": "markdown",
      "source": [
        "###Matplotlib\n",
        "Matplotlib is a plotting library for creating static, animated, and interactive visualizations."
      ],
      "metadata": {
        "id": "SkzAuOYHwunk"
      }
    },
    {
      "cell_type": "code",
      "source": [
        "import matplotlib.pyplot as plt\n",
        "\n",
        "# Create a simple line plot\n",
        "x = [1, 2, 3, 4, 5]\n",
        "y = [2, 4, 6, 8, 10]\n",
        "\n",
        "plt.plot(x, y)\n",
        "plt.xlabel('X-axis')\n",
        "plt.ylabel('Y-axis')\n",
        "plt.title('Simple Line Plot')\n",
        "plt.show()"
      ],
      "metadata": {
        "id": "Te9EKwlNwyp-"
      },
      "execution_count": null,
      "outputs": []
    },
    {
      "cell_type": "markdown",
      "source": [
        "###Pandas\n",
        "Pandas is a data manipulation and analysis library."
      ],
      "metadata": {
        "id": "AF4EALF-wrKt"
      }
    },
    {
      "cell_type": "code",
      "source": [
        "import pandas as pd\n",
        "\n",
        "# Create a DataFrame\n",
        "data = {'Name': ['Alice', 'Bob', 'Charlie'],\n",
        "        'Age': [25, 30, 35],\n",
        "        'City': ['New York', 'San Francisco', 'Los Angeles']}\n",
        "df = pd.DataFrame(data)\n",
        "print(df)\n",
        "\n"
      ],
      "metadata": {
        "id": "NTrMjYwuwr-u"
      },
      "execution_count": null,
      "outputs": []
    },
    {
      "cell_type": "code",
      "source": [
        "# Basic operations\n",
        "print(\"\\nMean age:\", df['Age'].mean())\n",
        "print(\"\\nFiltered data:\")\n",
        "print(df[df['Age'] > 28])"
      ],
      "metadata": {
        "id": "At74U2bq8zHv"
      },
      "execution_count": null,
      "outputs": []
    },
    {
      "cell_type": "markdown",
      "source": [
        "### OpenAI"
      ],
      "metadata": {
        "id": "dGEz0ldolOFj"
      }
    },
    {
      "cell_type": "code",
      "source": [
        "!pip install openai"
      ],
      "metadata": {
        "id": "BZycuQHFlH21"
      },
      "execution_count": null,
      "outputs": []
    },
    {
      "cell_type": "code",
      "source": [
        "import os\n",
        "from google.colab import userdata\n",
        "\n",
        "os.environ[\"OPENAI_API_KEY\"] = userdata.get('OPENAI_API_KEY')"
      ],
      "metadata": {
        "id": "b8Ft3vGnlacr"
      },
      "execution_count": null,
      "outputs": []
    },
    {
      "cell_type": "code",
      "source": [
        "from openai import OpenAI\n",
        "client = OpenAI()\n",
        "\n",
        "completion = client.chat.completions.create(\n",
        "    model=\"gpt-4o\",\n",
        "    messages=[\n",
        "        {\n",
        "            \"role\": \"user\",\n",
        "            \"content\": \"Write a haiku about Python.\"\n",
        "        }\n",
        "    ]\n",
        ")\n",
        "\n",
        "print(completion.choices[0].message.content)"
      ],
      "metadata": {
        "id": "haKooHE2lrio"
      },
      "execution_count": null,
      "outputs": []
    },
    {
      "cell_type": "code",
      "source": [],
      "metadata": {
        "id": "_WK0Ovx0lyUt"
      },
      "execution_count": null,
      "outputs": []
    }
  ]
}