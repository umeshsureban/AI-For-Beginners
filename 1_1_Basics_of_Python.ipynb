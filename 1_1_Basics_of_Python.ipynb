{
 "cells": [
  {
   "cell_type": "markdown",
   "metadata": {
    "colab_type": "text",
    "id": "view-in-github"
   },
   "source": [
    "<a href=\"https://colab.research.google.com/github/umeshsureban/AI-For-Beginners/blob/main/1_1_Basics_of_Python.ipynb\" target=\"_parent\"><img src=\"https://colab.research.google.com/assets/colab-badge.svg\" alt=\"Open In Colab\"/></a>"
   ]
  },
  {
   "cell_type": "markdown",
   "metadata": {
    "id": "DZ0Bfv9Dn3eq"
   },
   "source": [
    "###Python Basics: A Comprehensive Guide\n"
   ]
  },
  {
   "cell_type": "markdown",
   "metadata": {
    "id": "YVzNA0axr85O"
   },
   "source": [
    "###1. Introduction to Python\n",
    "Python is a high-level, interpreted programming language known for its simplicity and readability. It's widely used in various fields, including web development, data science, artificial intelligence, and more.\n",
    "\n",
    "\n",
    "To run Python code in this notebook, simply click the play button next to each code cell or press Shift+Enter."
   ]
  },
  {
   "cell_type": "markdown",
   "metadata": {
    "id": "X37ni-wXn_US"
   },
   "source": [
    "###2. Variables and Data Types\n",
    "In Python, you can create variables simply by assigning a value to a name."
   ]
  },
  {
   "cell_type": "code",
   "execution_count": null,
   "metadata": {
    "id": "ogekj41nk2am"
   },
   "outputs": [],
   "source": [
    "# Integer\n",
    "age = 25\n",
    "\n",
    "print(age)"
   ]
  },
  {
   "cell_type": "code",
   "execution_count": null,
   "metadata": {
    "id": "rXrqXM2Tze5t"
   },
   "outputs": [],
   "source": [
    "type(age)"
   ]
  },
  {
   "cell_type": "code",
   "execution_count": null,
   "metadata": {
    "id": "zRCfy-AVoIFG"
   },
   "outputs": [],
   "source": [
    "# Float\n",
    "height = 1.75\n",
    "\n",
    "print(height)"
   ]
  },
  {
   "cell_type": "code",
   "execution_count": null,
   "metadata": {
    "id": "ItkCd_jHzqY_"
   },
   "outputs": [],
   "source": [
    "type(height)"
   ]
  },
  {
   "cell_type": "code",
   "execution_count": null,
   "metadata": {
    "id": "Hj3WqjQ7oLLe"
   },
   "outputs": [],
   "source": [
    "# String\n",
    "name = \"Satvik\"\n",
    "print(\"Name: \" + name)"
   ]
  },
  {
   "cell_type": "code",
   "execution_count": null,
   "metadata": {
    "id": "ihhgcBEucF3Y"
   },
   "outputs": [],
   "source": [
    "print(type(name))"
   ]
  },
  {
   "cell_type": "code",
   "execution_count": null,
   "metadata": {
    "id": "uiScNEbjoN-O"
   },
   "outputs": [],
   "source": [
    "# Boolean\n",
    "is_student = True\n",
    "print(\"Is Student: \" + str(is_student))\n",
    "print(type(is_student))"
   ]
  },
  {
   "cell_type": "code",
   "execution_count": null,
   "metadata": {
    "id": "TceFktbyCy0m"
   },
   "outputs": [],
   "source": [
    "# create"
   ]
  },
  {
   "cell_type": "markdown",
   "metadata": {
    "id": "ab4uXtksoRQH"
   },
   "source": [
    "###2.1 Lists\n",
    "Lists are ordered collections of items."
   ]
  },
  {
   "cell_type": "code",
   "execution_count": null,
   "metadata": {
    "id": "R8o6ngnsoSGg"
   },
   "outputs": [],
   "source": [
    "fruits = [\"apple\", \"banana\", \"cherry\"]\n",
    "\n",
    "fruits"
   ]
  },
  {
   "cell_type": "code",
   "execution_count": null,
   "metadata": {
    "id": "AFScJauG2tDc"
   },
   "outputs": [],
   "source": [
    "type(fruits)"
   ]
  },
  {
   "cell_type": "code",
   "execution_count": null,
   "metadata": {
    "id": "dr7MurBs2qOW"
   },
   "outputs": [],
   "source": [
    "print(\"Fruits: \", fruits, \", Type: \", type(fruits))"
   ]
  },
  {
   "cell_type": "code",
   "execution_count": null,
   "metadata": {
    "id": "Gw5W-xsm5618"
   },
   "outputs": [],
   "source": [
    "len(fruits)"
   ]
  },
  {
   "cell_type": "code",
   "execution_count": null,
   "metadata": {
    "id": "Hgq4o1Wn6GWK"
   },
   "outputs": [],
   "source": [
    "fruits[0]"
   ]
  },
  {
   "cell_type": "code",
   "execution_count": null,
   "metadata": {
    "id": "L503J70r6KFu"
   },
   "outputs": [],
   "source": [
    "fruits[1]"
   ]
  },
  {
   "cell_type": "code",
   "execution_count": null,
   "metadata": {
    "id": "NP6jIzIH6MrW"
   },
   "outputs": [],
   "source": [
    "fruits[-1]"
   ]
  },
  {
   "cell_type": "code",
   "execution_count": null,
   "metadata": {
    "id": "ka9U2dSocdgr"
   },
   "outputs": [],
   "source": [
    "# Accessing elements\n",
    "print(\"First fruit: \", fruits[0])\n",
    "print(\"Last fruit: \", fruits[-1])"
   ]
  },
  {
   "cell_type": "code",
   "execution_count": null,
   "metadata": {
    "id": "SvOXs8MMcibG"
   },
   "outputs": [],
   "source": [
    "# Modifying lists\n",
    "fruits.append(\"date\")\n",
    "print(\"After appending 'date': \", fruits)\n",
    "\n",
    "fruits.remove(\"banana\")\n",
    "print(\"After removing 'banana': \", fruits)"
   ]
  },
  {
   "cell_type": "markdown",
   "metadata": {
    "id": "WoiwocIroWBo"
   },
   "source": [
    "###2.2 Dictionaries\n",
    "Dictionaries are collections of key-value pairs."
   ]
  },
  {
   "cell_type": "code",
   "execution_count": null,
   "metadata": {
    "id": "mGBLKCTkoXcQ"
   },
   "outputs": [],
   "source": [
    "persons = {\n",
    "    \"name\": \"Bob\",\n",
    "    \"age\": 30,\n",
    "    \"city\": \"New York\"\n",
    "}\n",
    "\n",
    "persons"
   ]
  },
  {
   "cell_type": "code",
   "execution_count": null,
   "metadata": {
    "id": "rgCy46L922a1"
   },
   "outputs": [],
   "source": [
    "type(persons)"
   ]
  },
  {
   "cell_type": "code",
   "execution_count": null,
   "metadata": {
    "id": "kM2IyoaCcqx-"
   },
   "outputs": [],
   "source": [
    "# Accessing values\n",
    "persons['name']"
   ]
  },
  {
   "cell_type": "code",
   "execution_count": null,
   "metadata": {
    "id": "MaLmN_8J6v6T"
   },
   "outputs": [],
   "source": [
    "persons['city']"
   ]
  },
  {
   "cell_type": "markdown",
   "metadata": {
    "id": "1RskdAi7ocS4"
   },
   "source": [
    "###3.1 If-Else Statements\n"
   ]
  },
  {
   "cell_type": "code",
   "execution_count": null,
   "metadata": {
    "id": "COnyFyWModwA"
   },
   "outputs": [],
   "source": [
    "age = 67\n",
    "\n",
    "if age < 18:\n",
    "    print(\"You are a minor\")\n",
    "elif age >= 18 and age < 65:\n",
    "    print(\"You are an adult\")\n",
    "else:\n",
    "    print(\"You are a senior citizen\")"
   ]
  },
  {
   "cell_type": "markdown",
   "metadata": {
    "id": "XJVDX-nbohvj"
   },
   "source": [
    "###3.2 For Loops"
   ]
  },
  {
   "cell_type": "code",
   "execution_count": null,
   "metadata": {
    "id": "ugtQJ4GyojHS"
   },
   "outputs": [],
   "source": [
    "# Looping through a list\n",
    "fruits = [\"apple\", \"banana\", \"cherry\"]\n",
    "for x in fruits:\n",
    "    print(x)"
   ]
  },
  {
   "cell_type": "code",
   "execution_count": null,
   "metadata": {
    "id": "wPYFAuAwi8T8"
   },
   "outputs": [],
   "source": [
    "# Looping with range\n",
    "for i in range(5):\n",
    "    print(i)"
   ]
  },
  {
   "cell_type": "markdown",
   "metadata": {
    "id": "uZUIRJxeonI8"
   },
   "source": [
    "###3.3 While Loops"
   ]
  },
  {
   "cell_type": "code",
   "execution_count": null,
   "metadata": {
    "id": "kUwJeDDpooIc"
   },
   "outputs": [],
   "source": [
    "count = 0\n",
    "while count < 5:\n",
    "    print(count)\n",
    "    count += 1"
   ]
  },
  {
   "cell_type": "code",
   "execution_count": null,
   "metadata": {
    "id": "aqZeb786dfFM"
   },
   "outputs": [],
   "source": []
  },
  {
   "cell_type": "markdown",
   "metadata": {
    "id": "oJggpU-DrgEl"
   },
   "source": [
    "###4. Functions\n",
    "Functions allow us to organize our code into reusable blocks."
   ]
  },
  {
   "cell_type": "code",
   "execution_count": null,
   "metadata": {
    "id": "bY_arv-ojVEF"
   },
   "outputs": [],
   "source": [
    "# Defining a function\n",
    "\n",
    "def greet(name):\n",
    "    return f\"Hello, {name}!\""
   ]
  },
  {
   "cell_type": "code",
   "execution_count": null,
   "metadata": {
    "id": "foFzBUItke33"
   },
   "outputs": [],
   "source": [
    "# Calling the function\n",
    "\n",
    "message = greet(\"Alice\")\n",
    "print(message)"
   ]
  },
  {
   "cell_type": "code",
   "execution_count": null,
   "metadata": {
    "id": "vT3jZkYLjAVL"
   },
   "outputs": [],
   "source": [
    "# Function with multiple parameters\n",
    "\n",
    "def ab_square(a,b):\n",
    "  return a**2 + b**2 + 2*a*b"
   ]
  },
  {
   "cell_type": "code",
   "execution_count": null,
   "metadata": {
    "id": "TJSX-ePGjL_y"
   },
   "outputs": [],
   "source": [
    "# Calling the function\n",
    "\n",
    "ab_square(2,3)"
   ]
  },
  {
   "cell_type": "markdown",
   "metadata": {
    "id": "AaxDun6VweLk"
   },
   "source": [
    "###5. Working with Libraries\n"
   ]
  },
  {
   "cell_type": "markdown",
   "metadata": {
    "id": "SkzAuOYHwunk"
   },
   "source": [
    "###Matplotlib\n",
    "Matplotlib is a plotting library for creating static, animated, and interactive visualizations."
   ]
  },
  {
   "cell_type": "code",
   "execution_count": null,
   "metadata": {
    "id": "Te9EKwlNwyp-"
   },
   "outputs": [],
   "source": [
    "import matplotlib.pyplot as plt\n",
    "\n",
    "# Create a simple line plot\n",
    "x = [1, 2, 3, 4, 5]\n",
    "y = [2, 4, 6, 8, 10]\n",
    "\n",
    "plt.plot(x, y)\n",
    "plt.xlabel('X-axis')\n",
    "plt.ylabel('Y-axis')\n",
    "plt.title('Simple Line Plot')\n",
    "plt.show()"
   ]
  },
  {
   "cell_type": "markdown",
   "metadata": {
    "id": "AF4EALF-wrKt"
   },
   "source": [
    "###Pandas\n",
    "Pandas is a data manipulation and analysis library."
   ]
  },
  {
   "cell_type": "code",
   "execution_count": null,
   "metadata": {
    "id": "NTrMjYwuwr-u"
   },
   "outputs": [],
   "source": [
    "import pandas as pd\n",
    "\n",
    "# Create a DataFrame\n",
    "data = {'Name': ['Alice', 'Bob', 'Charlie'],\n",
    "        'Age': [25, 30, 35],\n",
    "        'City': ['New York', 'San Francisco', 'Los Angeles']}\n",
    "df = pd.DataFrame(data)\n",
    "print(df)\n",
    "\n"
   ]
  },
  {
   "cell_type": "code",
   "execution_count": null,
   "metadata": {
    "id": "At74U2bq8zHv"
   },
   "outputs": [],
   "source": [
    "# Basic operations\n",
    "print(\"\\nMean age:\", df['Age'].mean())\n",
    "print(\"\\nFiltered data:\")\n",
    "print(df[df['Age'] > 28])"
   ]
  },
  {
   "cell_type": "markdown",
   "metadata": {
    "id": "dGEz0ldolOFj"
   },
   "source": [
    "### OpenAI"
   ]
  },
  {
   "cell_type": "code",
   "execution_count": null,
   "metadata": {
    "id": "BZycuQHFlH21"
   },
   "outputs": [],
   "source": [
    "!pip install openai"
   ]
  },
  {
   "cell_type": "code",
   "execution_count": null,
   "metadata": {
    "id": "b8Ft3vGnlacr"
   },
   "outputs": [],
   "source": [
    "import os\n",
    "from google.colab import userdata\n",
    "\n",
    "os.environ[\"OPENAI_API_KEY\"] = userdata.get('OPENAI_API_KEY')"
   ]
  },
  {
   "cell_type": "markdown",
   "metadata": {},
   "source": [
    "Test"
   ]
  },
  {
   "cell_type": "code",
   "execution_count": null,
   "metadata": {
    "id": "haKooHE2lrio"
   },
   "outputs": [],
   "source": [
    "from openai import OpenAI\n",
    "client = OpenAI()\n",
    "\n",
    "completion = client.chat.completions.create(\n",
    "    model=\"gpt-4o\",\n",
    "    messages=[\n",
    "        {\n",
    "            \"role\": \"user\",\n",
    "            \"content\": \"Write a haiku about Python.\"\n",
    "        }\n",
    "    ]\n",
    ")\n",
    "\n",
    "print(completion.choices[0].message.content)"
   ]
  },
  {
   "cell_type": "code",
   "execution_count": null,
   "metadata": {
    "id": "_WK0Ovx0lyUt"
   },
   "outputs": [],
   "source": []
  }
 ],
 "metadata": {
  "colab": {
   "include_colab_link": true,
   "provenance": []
  },
  "kernelspec": {
   "display_name": "Python 3",
   "name": "python3"
  },
  "language_info": {
   "codemirror_mode": {
    "name": "ipython",
    "version": 3
   },
   "file_extension": ".py",
   "mimetype": "text/x-python",
   "name": "python",
   "nbconvert_exporter": "python",
   "pygments_lexer": "ipython3",
   "version": "3.13.0"
  }
 },
 "nbformat": 4,
 "nbformat_minor": 0
}
